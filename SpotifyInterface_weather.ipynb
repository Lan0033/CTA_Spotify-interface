{
 "cells": [
  {
   "cell_type": "code",
   "execution_count": 3,
   "id": "aa06d1fd-f56a-4eeb-9ee3-f337e3da2763",
   "metadata": {},
   "outputs": [],
   "source": [
    "import spotipy\n",
    "import json\n",
    "import webbrowser\n",
    "import urllib. request\n",
    "import spotipy.util as util"
   ]
  },
  {
   "cell_type": "code",
   "execution_count": 4,
   "id": "8420a5b3-8aef-49ba-804f-aa011bf46b80",
   "metadata": {},
   "outputs": [
    {
     "name": "stdout",
     "output_type": "stream",
     "text": [
      "fc0f9c518cc644658a7151557242910\n"
     ]
    }
   ],
   "source": [
    "with open('weather_key.txt', 'r') as weather_file:\n",
    "    weather_key = weather_file.read()\n",
    "    print (weather_key)"
   ]
  },
  {
   "cell_type": "code",
   "execution_count": 25,
   "id": "9ba7ad56-0931-4ec6-b1cc-d80adcba51e9",
   "metadata": {},
   "outputs": [],
   "source": [
    "#city can be a variable name "
   ]
  },
  {
   "cell_type": "code",
   "execution_count": 5,
   "id": "47060831-e894-41b1-b866-ad93fca19fe4",
   "metadata": {},
   "outputs": [],
   "source": [
    "request = urllib.request.Request(f\"http://api.weatherapi.com/v1/current.json?key={weather_key}&q=London&aqi=no\")\n",
    "response = urllib.request.urlopen(request)"
   ]
  },
  {
   "cell_type": "code",
   "execution_count": 6,
   "id": "20ced204-baa4-4c23-a90c-6e9170168322",
   "metadata": {},
   "outputs": [],
   "source": [
    "weather = json.loads(response.read())"
   ]
  },
  {
   "cell_type": "code",
   "execution_count": 16,
   "id": "99c05bde-5da8-43d2-9370-8b9ca104478e",
   "metadata": {},
   "outputs": [
    {
     "name": "stdout",
     "output_type": "stream",
     "text": [
      "{'location': {'name': 'London', 'region': 'City of London, Greater London', 'country': 'United Kingdom', 'lat': 51.5171, 'lon': -0.1062, 'tz_id': 'Europe/London', 'localtime_epoch': 1730216451, 'localtime': '2024-10-29 15:40'}, 'current': {'last_updated_epoch': 1730215800, 'last_updated': '2024-10-29 15:30', 'temp_c': 15.3, 'temp_f': 59.5, 'is_day': 1, 'condition': {'text': 'Overcast', 'icon': '//cdn.weatherapi.com/weather/64x64/day/122.png', 'code': 1009}, 'wind_mph': 3.1, 'wind_kph': 5.0, 'wind_degree': 259, 'wind_dir': 'W', 'pressure_mb': 1024.0, 'pressure_in': 30.24, 'precip_mm': 0.0, 'precip_in': 0.0, 'humidity': 82, 'cloud': 50, 'feelslike_c': 15.3, 'feelslike_f': 59.5, 'windchill_c': 15.1, 'windchill_f': 59.1, 'heatindex_c': 14.7, 'heatindex_f': 58.4, 'dewpoint_c': 10.0, 'dewpoint_f': 50.0, 'vis_km': 10.0, 'vis_miles': 6.0, 'uv': 0.5, 'gust_mph': 4.9, 'gust_kph': 8.0}}\n"
     ]
    }
   ],
   "source": [
    "print(weather)"
   ]
  },
  {
   "cell_type": "code",
   "execution_count": 7,
   "id": "62696b47-d505-472d-a38e-28f0cf0db44a",
   "metadata": {},
   "outputs": [],
   "source": [
    "forecast = weather[\"current\"][\"condition\"][\"text\"]"
   ]
  },
  {
   "cell_type": "code",
   "execution_count": 8,
   "id": "800c6616-c6a7-454b-827b-56c4a2bc333c",
   "metadata": {},
   "outputs": [
    {
     "data": {
      "text/plain": [
       "'Overcast'"
      ]
     },
     "execution_count": 8,
     "metadata": {},
     "output_type": "execute_result"
    }
   ],
   "source": [
    "forecast"
   ]
  },
  {
   "cell_type": "code",
   "execution_count": 70,
   "id": "929acfe2-64c0-4280-83d0-52a529523fd4",
   "metadata": {},
   "outputs": [],
   "source": [
    "credentials = \"spotify.json\"\n",
    "with open(credentials, \"r\") as keys:\n",
    "    api_tokens = json.load(keys)"
   ]
  },
  {
   "cell_type": "code",
   "execution_count": 71,
   "id": "0d01e9f2-7c69-414f-a150-44ab2f43479b",
   "metadata": {},
   "outputs": [],
   "source": [
    "client_id = api_tokens[\"client_id\"]\n",
    "client_secret = api_tokens[\"client_secret\"]\n",
    "redirectURI = api_tokens[\"redirect\"]\n",
    "username = api_tokens[\"username\"]"
   ]
  },
  {
   "cell_type": "code",
   "execution_count": 72,
   "id": "74298499-331b-49ce-af31-19452b661730",
   "metadata": {},
   "outputs": [
    {
     "name": "stdin",
     "output_type": "stream",
     "text": [
      "Enter the URL you were redirected to:  https://www.google.co.uk/?code=AQCt1X-ythxafmc5P78DmzQY20yGwNf1VilrqZxHVgVyTluO2A4csKdoyAXtwajgVgX0TILJ5ouSYGWcRht-DGcFOMuCdlzI1031xRn0Zz19S0ZK0QZD78xAWAp_3rWI1uExmOQTeFT5g5fu3IIew8cKDTHUZVg-jK9Qgt-GrkNDSEJJyg0CZ3siIyvkL1xiPecrnRE45nQ_aUePcpGGaqG0Y2rA_Ng-dvSUD_bxqUekaM2jCZMUku1BbRA0UQgEf_7Pgp4XK47Be_bPuPjBJzWLOlRukpYXGoKkMV1m\n"
     ]
    }
   ],
   "source": [
    "scope = 'user-read-private user-read-playback-state user-modify-playback-state playlist-modify-public'\n",
    "token = util.prompt_for_user_token(username, scope, client_id=client_id,\n",
    "                           client_secret=client_secret,\n",
    "                           redirect_uri=redirectURI)"
   ]
  },
  {
   "cell_type": "code",
   "execution_count": 73,
   "id": "0efae76f-644a-4cdc-96f7-aaaec634fc31",
   "metadata": {},
   "outputs": [],
   "source": [
    "sp = spotipy.Spotify(auth=token)"
   ]
  },
  {
   "cell_type": "code",
   "execution_count": 74,
   "id": "86544175-faa4-4b12-b214-fd0e6c43da0c",
   "metadata": {},
   "outputs": [
    {
     "name": "stdout",
     "output_type": "stream",
     "text": [
      "{'devices': [{'id': '5aa8d33cbf762b0d4eb617791d7be68c33d813d8', 'is_active': False, 'is_private_session': False, 'is_restricted': False, 'name': 'LAPTOP-0GDDRC04', 'supports_volume': True, 'type': 'Computer', 'volume_percent': 100}]}\n"
     ]
    }
   ],
   "source": [
    "devices = sp.devices()\n",
    "print(devices)"
   ]
  },
  {
   "cell_type": "code",
   "execution_count": 75,
   "id": "342411af-7b79-4d92-acb9-709ce64ba234",
   "metadata": {},
   "outputs": [
    {
     "name": "stdout",
     "output_type": "stream",
     "text": [
      "5aa8d33cbf762b0d4eb617791d7be68c33d813d8\n"
     ]
    }
   ],
   "source": [
    "deviceID = devices['devices'][0]['id']\n",
    "print(deviceID)"
   ]
  },
  {
   "cell_type": "code",
   "execution_count": 76,
   "id": "276763fc-c63e-42fd-9cae-a18e6d3d92b4",
   "metadata": {},
   "outputs": [],
   "source": [
    "track_results = sp.search(q=forecast, type='track', limit=50)"
   ]
  },
  {
   "cell_type": "code",
   "execution_count": 77,
   "id": "62e4730b-72e7-4725-bd7f-85ce50e3c789",
   "metadata": {},
   "outputs": [],
   "source": [
    "tracks = track_results['tracks']['items']"
   ]
  },
  {
   "cell_type": "code",
   "execution_count": 78,
   "id": "27702f20-9ced-42ef-9875-7a49b170480d",
   "metadata": {},
   "outputs": [
    {
     "data": {
      "text/plain": [
       "{'album': {'album_type': 'single',\n",
       "  'artists': [{'external_urls': {'spotify': 'https://open.spotify.com/artist/37JMStSvQj5EhXqa3MycDR'},\n",
       "    'href': 'https://api.spotify.com/v1/artists/37JMStSvQj5EhXqa3MycDR',\n",
       "    'id': '37JMStSvQj5EhXqa3MycDR',\n",
       "    'name': 'Emily Foxhill',\n",
       "    'type': 'artist',\n",
       "    'uri': 'spotify:artist:37JMStSvQj5EhXqa3MycDR'}],\n",
       "  'available_markets': ['AR',\n",
       "   'AU',\n",
       "   'AT',\n",
       "   'BE',\n",
       "   'BO',\n",
       "   'BR',\n",
       "   'BG',\n",
       "   'CA',\n",
       "   'CL',\n",
       "   'CO',\n",
       "   'CR',\n",
       "   'CY',\n",
       "   'CZ',\n",
       "   'DK',\n",
       "   'DO',\n",
       "   'DE',\n",
       "   'EC',\n",
       "   'EE',\n",
       "   'SV',\n",
       "   'FI',\n",
       "   'FR',\n",
       "   'GR',\n",
       "   'GT',\n",
       "   'HN',\n",
       "   'HK',\n",
       "   'HU',\n",
       "   'IS',\n",
       "   'IE',\n",
       "   'IT',\n",
       "   'LV',\n",
       "   'LT',\n",
       "   'LU',\n",
       "   'MY',\n",
       "   'MT',\n",
       "   'MX',\n",
       "   'NL',\n",
       "   'NZ',\n",
       "   'NI',\n",
       "   'NO',\n",
       "   'PA',\n",
       "   'PY',\n",
       "   'PE',\n",
       "   'PH',\n",
       "   'PL',\n",
       "   'PT',\n",
       "   'SG',\n",
       "   'SK',\n",
       "   'ES',\n",
       "   'SE',\n",
       "   'CH',\n",
       "   'TW',\n",
       "   'TR',\n",
       "   'UY',\n",
       "   'US',\n",
       "   'GB',\n",
       "   'AD',\n",
       "   'LI',\n",
       "   'MC',\n",
       "   'ID',\n",
       "   'JP',\n",
       "   'TH',\n",
       "   'VN',\n",
       "   'RO',\n",
       "   'IL',\n",
       "   'ZA',\n",
       "   'SA',\n",
       "   'AE',\n",
       "   'BH',\n",
       "   'QA',\n",
       "   'OM',\n",
       "   'KW',\n",
       "   'EG',\n",
       "   'MA',\n",
       "   'DZ',\n",
       "   'TN',\n",
       "   'LB',\n",
       "   'JO',\n",
       "   'PS',\n",
       "   'IN',\n",
       "   'BY',\n",
       "   'KZ',\n",
       "   'MD',\n",
       "   'UA',\n",
       "   'AL',\n",
       "   'BA',\n",
       "   'HR',\n",
       "   'ME',\n",
       "   'MK',\n",
       "   'RS',\n",
       "   'SI',\n",
       "   'KR',\n",
       "   'BD',\n",
       "   'PK',\n",
       "   'LK',\n",
       "   'GH',\n",
       "   'KE',\n",
       "   'NG',\n",
       "   'TZ',\n",
       "   'UG',\n",
       "   'AG',\n",
       "   'AM',\n",
       "   'BS',\n",
       "   'BB',\n",
       "   'BZ',\n",
       "   'BT',\n",
       "   'BW',\n",
       "   'BF',\n",
       "   'CV',\n",
       "   'CW',\n",
       "   'DM',\n",
       "   'FJ',\n",
       "   'GM',\n",
       "   'GE',\n",
       "   'GD',\n",
       "   'GW',\n",
       "   'GY',\n",
       "   'HT',\n",
       "   'JM',\n",
       "   'KI',\n",
       "   'LS',\n",
       "   'LR',\n",
       "   'MW',\n",
       "   'MV',\n",
       "   'ML',\n",
       "   'MH',\n",
       "   'FM',\n",
       "   'NA',\n",
       "   'NR',\n",
       "   'NE',\n",
       "   'PW',\n",
       "   'PG',\n",
       "   'PR',\n",
       "   'WS',\n",
       "   'SM',\n",
       "   'ST',\n",
       "   'SN',\n",
       "   'SC',\n",
       "   'SL',\n",
       "   'SB',\n",
       "   'KN',\n",
       "   'LC',\n",
       "   'VC',\n",
       "   'SR',\n",
       "   'TL',\n",
       "   'TO',\n",
       "   'TT',\n",
       "   'TV',\n",
       "   'VU',\n",
       "   'AZ',\n",
       "   'BN',\n",
       "   'BI',\n",
       "   'KH',\n",
       "   'CM',\n",
       "   'TD',\n",
       "   'KM',\n",
       "   'GQ',\n",
       "   'SZ',\n",
       "   'GA',\n",
       "   'GN',\n",
       "   'KG',\n",
       "   'LA',\n",
       "   'MO',\n",
       "   'MR',\n",
       "   'MN',\n",
       "   'NP',\n",
       "   'RW',\n",
       "   'TG',\n",
       "   'UZ',\n",
       "   'ZW',\n",
       "   'BJ',\n",
       "   'MG',\n",
       "   'MU',\n",
       "   'MZ',\n",
       "   'AO',\n",
       "   'CI',\n",
       "   'DJ',\n",
       "   'ZM',\n",
       "   'CD',\n",
       "   'CG',\n",
       "   'IQ',\n",
       "   'LY',\n",
       "   'TJ',\n",
       "   'VE',\n",
       "   'ET',\n",
       "   'XK'],\n",
       "  'external_urls': {'spotify': 'https://open.spotify.com/album/6YvIJl0R2DUgawuSMsLg28'},\n",
       "  'href': 'https://api.spotify.com/v1/albums/6YvIJl0R2DUgawuSMsLg28',\n",
       "  'id': '6YvIJl0R2DUgawuSMsLg28',\n",
       "  'images': [{'height': 640,\n",
       "    'url': 'https://i.scdn.co/image/ab67616d0000b2739f1f2daa7f7e7028fff83aec',\n",
       "    'width': 640},\n",
       "   {'height': 300,\n",
       "    'url': 'https://i.scdn.co/image/ab67616d00001e029f1f2daa7f7e7028fff83aec',\n",
       "    'width': 300},\n",
       "   {'height': 64,\n",
       "    'url': 'https://i.scdn.co/image/ab67616d000048519f1f2daa7f7e7028fff83aec',\n",
       "    'width': 64}],\n",
       "  'name': 'Overcast',\n",
       "  'release_date': '2019-09-22',\n",
       "  'release_date_precision': 'day',\n",
       "  'total_tracks': 1,\n",
       "  'type': 'album',\n",
       "  'uri': 'spotify:album:6YvIJl0R2DUgawuSMsLg28'},\n",
       " 'artists': [{'external_urls': {'spotify': 'https://open.spotify.com/artist/37JMStSvQj5EhXqa3MycDR'},\n",
       "   'href': 'https://api.spotify.com/v1/artists/37JMStSvQj5EhXqa3MycDR',\n",
       "   'id': '37JMStSvQj5EhXqa3MycDR',\n",
       "   'name': 'Emily Foxhill',\n",
       "   'type': 'artist',\n",
       "   'uri': 'spotify:artist:37JMStSvQj5EhXqa3MycDR'}],\n",
       " 'available_markets': ['AR',\n",
       "  'AU',\n",
       "  'AT',\n",
       "  'BE',\n",
       "  'BO',\n",
       "  'BR',\n",
       "  'BG',\n",
       "  'CA',\n",
       "  'CL',\n",
       "  'CO',\n",
       "  'CR',\n",
       "  'CY',\n",
       "  'CZ',\n",
       "  'DK',\n",
       "  'DO',\n",
       "  'DE',\n",
       "  'EC',\n",
       "  'EE',\n",
       "  'SV',\n",
       "  'FI',\n",
       "  'FR',\n",
       "  'GR',\n",
       "  'GT',\n",
       "  'HN',\n",
       "  'HK',\n",
       "  'HU',\n",
       "  'IS',\n",
       "  'IE',\n",
       "  'IT',\n",
       "  'LV',\n",
       "  'LT',\n",
       "  'LU',\n",
       "  'MY',\n",
       "  'MT',\n",
       "  'MX',\n",
       "  'NL',\n",
       "  'NZ',\n",
       "  'NI',\n",
       "  'NO',\n",
       "  'PA',\n",
       "  'PY',\n",
       "  'PE',\n",
       "  'PH',\n",
       "  'PL',\n",
       "  'PT',\n",
       "  'SG',\n",
       "  'SK',\n",
       "  'ES',\n",
       "  'SE',\n",
       "  'CH',\n",
       "  'TW',\n",
       "  'TR',\n",
       "  'UY',\n",
       "  'US',\n",
       "  'GB',\n",
       "  'AD',\n",
       "  'LI',\n",
       "  'MC',\n",
       "  'ID',\n",
       "  'JP',\n",
       "  'TH',\n",
       "  'VN',\n",
       "  'RO',\n",
       "  'IL',\n",
       "  'ZA',\n",
       "  'SA',\n",
       "  'AE',\n",
       "  'BH',\n",
       "  'QA',\n",
       "  'OM',\n",
       "  'KW',\n",
       "  'EG',\n",
       "  'MA',\n",
       "  'DZ',\n",
       "  'TN',\n",
       "  'LB',\n",
       "  'JO',\n",
       "  'PS',\n",
       "  'IN',\n",
       "  'BY',\n",
       "  'KZ',\n",
       "  'MD',\n",
       "  'UA',\n",
       "  'AL',\n",
       "  'BA',\n",
       "  'HR',\n",
       "  'ME',\n",
       "  'MK',\n",
       "  'RS',\n",
       "  'SI',\n",
       "  'KR',\n",
       "  'BD',\n",
       "  'PK',\n",
       "  'LK',\n",
       "  'GH',\n",
       "  'KE',\n",
       "  'NG',\n",
       "  'TZ',\n",
       "  'UG',\n",
       "  'AG',\n",
       "  'AM',\n",
       "  'BS',\n",
       "  'BB',\n",
       "  'BZ',\n",
       "  'BT',\n",
       "  'BW',\n",
       "  'BF',\n",
       "  'CV',\n",
       "  'CW',\n",
       "  'DM',\n",
       "  'FJ',\n",
       "  'GM',\n",
       "  'GE',\n",
       "  'GD',\n",
       "  'GW',\n",
       "  'GY',\n",
       "  'HT',\n",
       "  'JM',\n",
       "  'KI',\n",
       "  'LS',\n",
       "  'LR',\n",
       "  'MW',\n",
       "  'MV',\n",
       "  'ML',\n",
       "  'MH',\n",
       "  'FM',\n",
       "  'NA',\n",
       "  'NR',\n",
       "  'NE',\n",
       "  'PW',\n",
       "  'PG',\n",
       "  'PR',\n",
       "  'WS',\n",
       "  'SM',\n",
       "  'ST',\n",
       "  'SN',\n",
       "  'SC',\n",
       "  'SL',\n",
       "  'SB',\n",
       "  'KN',\n",
       "  'LC',\n",
       "  'VC',\n",
       "  'SR',\n",
       "  'TL',\n",
       "  'TO',\n",
       "  'TT',\n",
       "  'TV',\n",
       "  'VU',\n",
       "  'AZ',\n",
       "  'BN',\n",
       "  'BI',\n",
       "  'KH',\n",
       "  'CM',\n",
       "  'TD',\n",
       "  'KM',\n",
       "  'GQ',\n",
       "  'SZ',\n",
       "  'GA',\n",
       "  'GN',\n",
       "  'KG',\n",
       "  'LA',\n",
       "  'MO',\n",
       "  'MR',\n",
       "  'MN',\n",
       "  'NP',\n",
       "  'RW',\n",
       "  'TG',\n",
       "  'UZ',\n",
       "  'ZW',\n",
       "  'BJ',\n",
       "  'MG',\n",
       "  'MU',\n",
       "  'MZ',\n",
       "  'AO',\n",
       "  'CI',\n",
       "  'DJ',\n",
       "  'ZM',\n",
       "  'CD',\n",
       "  'CG',\n",
       "  'IQ',\n",
       "  'LY',\n",
       "  'TJ',\n",
       "  'VE',\n",
       "  'ET',\n",
       "  'XK'],\n",
       " 'disc_number': 1,\n",
       " 'duration_ms': 142375,\n",
       " 'explicit': False,\n",
       " 'external_ids': {'isrc': 'QZFZ61974493'},\n",
       " 'external_urls': {'spotify': 'https://open.spotify.com/track/36eCXw0b8seSZl4KtZ2AzJ'},\n",
       " 'href': 'https://api.spotify.com/v1/tracks/36eCXw0b8seSZl4KtZ2AzJ',\n",
       " 'id': '36eCXw0b8seSZl4KtZ2AzJ',\n",
       " 'is_local': False,\n",
       " 'name': 'Overcast',\n",
       " 'popularity': 13,\n",
       " 'preview_url': 'https://p.scdn.co/mp3-preview/8c6ef70141042ae52b33f99b95399e80c8c6e8f3?cid=6c398422ec89419f9e35712f450fbe8a',\n",
       " 'track_number': 1,\n",
       " 'type': 'track',\n",
       " 'uri': 'spotify:track:36eCXw0b8seSZl4KtZ2AzJ'}"
      ]
     },
     "execution_count": 78,
     "metadata": {},
     "output_type": "execute_result"
    }
   ],
   "source": [
    "tracks[10]"
   ]
  },
  {
   "cell_type": "code",
   "execution_count": 79,
   "id": "3a5b2635-0939-4432-8150-76b267ec9142",
   "metadata": {},
   "outputs": [
    {
     "name": "stdout",
     "output_type": "stream",
     "text": [
      "['spotify:track:2n2a7CG0rgXadwWtVXN21F']\n",
      "['spotify:track:2n2a7CG0rgXadwWtVXN21F', 'spotify:track:4JMB7StRYhP9YWrABz5mvv']\n",
      "['spotify:track:2n2a7CG0rgXadwWtVXN21F', 'spotify:track:4JMB7StRYhP9YWrABz5mvv', 'spotify:track:63JygVQGiBmLBDQD2H1XN5']\n",
      "['spotify:track:2n2a7CG0rgXadwWtVXN21F', 'spotify:track:4JMB7StRYhP9YWrABz5mvv', 'spotify:track:63JygVQGiBmLBDQD2H1XN5', 'spotify:track:37aUEdbDjLJtct2sbPRYva']\n",
      "['spotify:track:2n2a7CG0rgXadwWtVXN21F', 'spotify:track:4JMB7StRYhP9YWrABz5mvv', 'spotify:track:63JygVQGiBmLBDQD2H1XN5', 'spotify:track:37aUEdbDjLJtct2sbPRYva', 'spotify:track:5ACLrTERL7b7JQd2ZTfMjz']\n",
      "['spotify:track:2n2a7CG0rgXadwWtVXN21F', 'spotify:track:4JMB7StRYhP9YWrABz5mvv', 'spotify:track:63JygVQGiBmLBDQD2H1XN5', 'spotify:track:37aUEdbDjLJtct2sbPRYva', 'spotify:track:5ACLrTERL7b7JQd2ZTfMjz', 'spotify:track:0YLPp1XFg20lsWOiF6kYwm']\n",
      "['spotify:track:2n2a7CG0rgXadwWtVXN21F', 'spotify:track:4JMB7StRYhP9YWrABz5mvv', 'spotify:track:63JygVQGiBmLBDQD2H1XN5', 'spotify:track:37aUEdbDjLJtct2sbPRYva', 'spotify:track:5ACLrTERL7b7JQd2ZTfMjz', 'spotify:track:0YLPp1XFg20lsWOiF6kYwm', 'spotify:track:386Y2BhIiL8qvQihX80F3V']\n",
      "['spotify:track:2n2a7CG0rgXadwWtVXN21F', 'spotify:track:4JMB7StRYhP9YWrABz5mvv', 'spotify:track:63JygVQGiBmLBDQD2H1XN5', 'spotify:track:37aUEdbDjLJtct2sbPRYva', 'spotify:track:5ACLrTERL7b7JQd2ZTfMjz', 'spotify:track:0YLPp1XFg20lsWOiF6kYwm', 'spotify:track:386Y2BhIiL8qvQihX80F3V', 'spotify:track:0UdssF0wBtkGmbTvCCEQFZ']\n",
      "['spotify:track:2n2a7CG0rgXadwWtVXN21F', 'spotify:track:4JMB7StRYhP9YWrABz5mvv', 'spotify:track:63JygVQGiBmLBDQD2H1XN5', 'spotify:track:37aUEdbDjLJtct2sbPRYva', 'spotify:track:5ACLrTERL7b7JQd2ZTfMjz', 'spotify:track:0YLPp1XFg20lsWOiF6kYwm', 'spotify:track:386Y2BhIiL8qvQihX80F3V', 'spotify:track:0UdssF0wBtkGmbTvCCEQFZ', 'spotify:track:3nyhumqc6usMA1R2XH9UK6']\n",
      "['spotify:track:2n2a7CG0rgXadwWtVXN21F', 'spotify:track:4JMB7StRYhP9YWrABz5mvv', 'spotify:track:63JygVQGiBmLBDQD2H1XN5', 'spotify:track:37aUEdbDjLJtct2sbPRYva', 'spotify:track:5ACLrTERL7b7JQd2ZTfMjz', 'spotify:track:0YLPp1XFg20lsWOiF6kYwm', 'spotify:track:386Y2BhIiL8qvQihX80F3V', 'spotify:track:0UdssF0wBtkGmbTvCCEQFZ', 'spotify:track:3nyhumqc6usMA1R2XH9UK6', 'spotify:track:0WOcJN6rOAsgAFTbnCze4J']\n",
      "['spotify:track:2n2a7CG0rgXadwWtVXN21F', 'spotify:track:4JMB7StRYhP9YWrABz5mvv', 'spotify:track:63JygVQGiBmLBDQD2H1XN5', 'spotify:track:37aUEdbDjLJtct2sbPRYva', 'spotify:track:5ACLrTERL7b7JQd2ZTfMjz', 'spotify:track:0YLPp1XFg20lsWOiF6kYwm', 'spotify:track:386Y2BhIiL8qvQihX80F3V', 'spotify:track:0UdssF0wBtkGmbTvCCEQFZ', 'spotify:track:3nyhumqc6usMA1R2XH9UK6', 'spotify:track:0WOcJN6rOAsgAFTbnCze4J', 'spotify:track:36eCXw0b8seSZl4KtZ2AzJ']\n",
      "['spotify:track:2n2a7CG0rgXadwWtVXN21F', 'spotify:track:4JMB7StRYhP9YWrABz5mvv', 'spotify:track:63JygVQGiBmLBDQD2H1XN5', 'spotify:track:37aUEdbDjLJtct2sbPRYva', 'spotify:track:5ACLrTERL7b7JQd2ZTfMjz', 'spotify:track:0YLPp1XFg20lsWOiF6kYwm', 'spotify:track:386Y2BhIiL8qvQihX80F3V', 'spotify:track:0UdssF0wBtkGmbTvCCEQFZ', 'spotify:track:3nyhumqc6usMA1R2XH9UK6', 'spotify:track:0WOcJN6rOAsgAFTbnCze4J', 'spotify:track:36eCXw0b8seSZl4KtZ2AzJ', 'spotify:track:35xWgCIhFfnTT0FDLdbaZ1']\n",
      "['spotify:track:2n2a7CG0rgXadwWtVXN21F', 'spotify:track:4JMB7StRYhP9YWrABz5mvv', 'spotify:track:63JygVQGiBmLBDQD2H1XN5', 'spotify:track:37aUEdbDjLJtct2sbPRYva', 'spotify:track:5ACLrTERL7b7JQd2ZTfMjz', 'spotify:track:0YLPp1XFg20lsWOiF6kYwm', 'spotify:track:386Y2BhIiL8qvQihX80F3V', 'spotify:track:0UdssF0wBtkGmbTvCCEQFZ', 'spotify:track:3nyhumqc6usMA1R2XH9UK6', 'spotify:track:0WOcJN6rOAsgAFTbnCze4J', 'spotify:track:36eCXw0b8seSZl4KtZ2AzJ', 'spotify:track:35xWgCIhFfnTT0FDLdbaZ1', 'spotify:track:1oJvrgdil8qHvqF543Upqd']\n",
      "['spotify:track:2n2a7CG0rgXadwWtVXN21F', 'spotify:track:4JMB7StRYhP9YWrABz5mvv', 'spotify:track:63JygVQGiBmLBDQD2H1XN5', 'spotify:track:37aUEdbDjLJtct2sbPRYva', 'spotify:track:5ACLrTERL7b7JQd2ZTfMjz', 'spotify:track:0YLPp1XFg20lsWOiF6kYwm', 'spotify:track:386Y2BhIiL8qvQihX80F3V', 'spotify:track:0UdssF0wBtkGmbTvCCEQFZ', 'spotify:track:3nyhumqc6usMA1R2XH9UK6', 'spotify:track:0WOcJN6rOAsgAFTbnCze4J', 'spotify:track:36eCXw0b8seSZl4KtZ2AzJ', 'spotify:track:35xWgCIhFfnTT0FDLdbaZ1', 'spotify:track:1oJvrgdil8qHvqF543Upqd', 'spotify:track:0HRMPRU3I85I9fdecngu3u']\n",
      "['spotify:track:2n2a7CG0rgXadwWtVXN21F', 'spotify:track:4JMB7StRYhP9YWrABz5mvv', 'spotify:track:63JygVQGiBmLBDQD2H1XN5', 'spotify:track:37aUEdbDjLJtct2sbPRYva', 'spotify:track:5ACLrTERL7b7JQd2ZTfMjz', 'spotify:track:0YLPp1XFg20lsWOiF6kYwm', 'spotify:track:386Y2BhIiL8qvQihX80F3V', 'spotify:track:0UdssF0wBtkGmbTvCCEQFZ', 'spotify:track:3nyhumqc6usMA1R2XH9UK6', 'spotify:track:0WOcJN6rOAsgAFTbnCze4J', 'spotify:track:36eCXw0b8seSZl4KtZ2AzJ', 'spotify:track:35xWgCIhFfnTT0FDLdbaZ1', 'spotify:track:1oJvrgdil8qHvqF543Upqd', 'spotify:track:0HRMPRU3I85I9fdecngu3u', 'spotify:track:5jxw7FJ2JW3qBspTHRQu2U']\n",
      "['spotify:track:2n2a7CG0rgXadwWtVXN21F', 'spotify:track:4JMB7StRYhP9YWrABz5mvv', 'spotify:track:63JygVQGiBmLBDQD2H1XN5', 'spotify:track:37aUEdbDjLJtct2sbPRYva', 'spotify:track:5ACLrTERL7b7JQd2ZTfMjz', 'spotify:track:0YLPp1XFg20lsWOiF6kYwm', 'spotify:track:386Y2BhIiL8qvQihX80F3V', 'spotify:track:0UdssF0wBtkGmbTvCCEQFZ', 'spotify:track:3nyhumqc6usMA1R2XH9UK6', 'spotify:track:0WOcJN6rOAsgAFTbnCze4J', 'spotify:track:36eCXw0b8seSZl4KtZ2AzJ', 'spotify:track:35xWgCIhFfnTT0FDLdbaZ1', 'spotify:track:1oJvrgdil8qHvqF543Upqd', 'spotify:track:0HRMPRU3I85I9fdecngu3u', 'spotify:track:5jxw7FJ2JW3qBspTHRQu2U', 'spotify:track:1DB7sjKLuzCoIlSeRulE4Q']\n",
      "['spotify:track:2n2a7CG0rgXadwWtVXN21F', 'spotify:track:4JMB7StRYhP9YWrABz5mvv', 'spotify:track:63JygVQGiBmLBDQD2H1XN5', 'spotify:track:37aUEdbDjLJtct2sbPRYva', 'spotify:track:5ACLrTERL7b7JQd2ZTfMjz', 'spotify:track:0YLPp1XFg20lsWOiF6kYwm', 'spotify:track:386Y2BhIiL8qvQihX80F3V', 'spotify:track:0UdssF0wBtkGmbTvCCEQFZ', 'spotify:track:3nyhumqc6usMA1R2XH9UK6', 'spotify:track:0WOcJN6rOAsgAFTbnCze4J', 'spotify:track:36eCXw0b8seSZl4KtZ2AzJ', 'spotify:track:35xWgCIhFfnTT0FDLdbaZ1', 'spotify:track:1oJvrgdil8qHvqF543Upqd', 'spotify:track:0HRMPRU3I85I9fdecngu3u', 'spotify:track:5jxw7FJ2JW3qBspTHRQu2U', 'spotify:track:1DB7sjKLuzCoIlSeRulE4Q', 'spotify:track:5nhKTXNuUK9gYaHIfGRSdC']\n",
      "['spotify:track:2n2a7CG0rgXadwWtVXN21F', 'spotify:track:4JMB7StRYhP9YWrABz5mvv', 'spotify:track:63JygVQGiBmLBDQD2H1XN5', 'spotify:track:37aUEdbDjLJtct2sbPRYva', 'spotify:track:5ACLrTERL7b7JQd2ZTfMjz', 'spotify:track:0YLPp1XFg20lsWOiF6kYwm', 'spotify:track:386Y2BhIiL8qvQihX80F3V', 'spotify:track:0UdssF0wBtkGmbTvCCEQFZ', 'spotify:track:3nyhumqc6usMA1R2XH9UK6', 'spotify:track:0WOcJN6rOAsgAFTbnCze4J', 'spotify:track:36eCXw0b8seSZl4KtZ2AzJ', 'spotify:track:35xWgCIhFfnTT0FDLdbaZ1', 'spotify:track:1oJvrgdil8qHvqF543Upqd', 'spotify:track:0HRMPRU3I85I9fdecngu3u', 'spotify:track:5jxw7FJ2JW3qBspTHRQu2U', 'spotify:track:1DB7sjKLuzCoIlSeRulE4Q', 'spotify:track:5nhKTXNuUK9gYaHIfGRSdC', 'spotify:track:2zB0qQzvH3U8HN9zTReHZb']\n",
      "['spotify:track:2n2a7CG0rgXadwWtVXN21F', 'spotify:track:4JMB7StRYhP9YWrABz5mvv', 'spotify:track:63JygVQGiBmLBDQD2H1XN5', 'spotify:track:37aUEdbDjLJtct2sbPRYva', 'spotify:track:5ACLrTERL7b7JQd2ZTfMjz', 'spotify:track:0YLPp1XFg20lsWOiF6kYwm', 'spotify:track:386Y2BhIiL8qvQihX80F3V', 'spotify:track:0UdssF0wBtkGmbTvCCEQFZ', 'spotify:track:3nyhumqc6usMA1R2XH9UK6', 'spotify:track:0WOcJN6rOAsgAFTbnCze4J', 'spotify:track:36eCXw0b8seSZl4KtZ2AzJ', 'spotify:track:35xWgCIhFfnTT0FDLdbaZ1', 'spotify:track:1oJvrgdil8qHvqF543Upqd', 'spotify:track:0HRMPRU3I85I9fdecngu3u', 'spotify:track:5jxw7FJ2JW3qBspTHRQu2U', 'spotify:track:1DB7sjKLuzCoIlSeRulE4Q', 'spotify:track:5nhKTXNuUK9gYaHIfGRSdC', 'spotify:track:2zB0qQzvH3U8HN9zTReHZb', 'spotify:track:0M4PcNyGDLhemL0Ro5NeFp']\n",
      "['spotify:track:2n2a7CG0rgXadwWtVXN21F', 'spotify:track:4JMB7StRYhP9YWrABz5mvv', 'spotify:track:63JygVQGiBmLBDQD2H1XN5', 'spotify:track:37aUEdbDjLJtct2sbPRYva', 'spotify:track:5ACLrTERL7b7JQd2ZTfMjz', 'spotify:track:0YLPp1XFg20lsWOiF6kYwm', 'spotify:track:386Y2BhIiL8qvQihX80F3V', 'spotify:track:0UdssF0wBtkGmbTvCCEQFZ', 'spotify:track:3nyhumqc6usMA1R2XH9UK6', 'spotify:track:0WOcJN6rOAsgAFTbnCze4J', 'spotify:track:36eCXw0b8seSZl4KtZ2AzJ', 'spotify:track:35xWgCIhFfnTT0FDLdbaZ1', 'spotify:track:1oJvrgdil8qHvqF543Upqd', 'spotify:track:0HRMPRU3I85I9fdecngu3u', 'spotify:track:5jxw7FJ2JW3qBspTHRQu2U', 'spotify:track:1DB7sjKLuzCoIlSeRulE4Q', 'spotify:track:5nhKTXNuUK9gYaHIfGRSdC', 'spotify:track:2zB0qQzvH3U8HN9zTReHZb', 'spotify:track:0M4PcNyGDLhemL0Ro5NeFp', 'spotify:track:5DcrwGaCgfhnOgX56a6rss']\n",
      "['spotify:track:2n2a7CG0rgXadwWtVXN21F', 'spotify:track:4JMB7StRYhP9YWrABz5mvv', 'spotify:track:63JygVQGiBmLBDQD2H1XN5', 'spotify:track:37aUEdbDjLJtct2sbPRYva', 'spotify:track:5ACLrTERL7b7JQd2ZTfMjz', 'spotify:track:0YLPp1XFg20lsWOiF6kYwm', 'spotify:track:386Y2BhIiL8qvQihX80F3V', 'spotify:track:0UdssF0wBtkGmbTvCCEQFZ', 'spotify:track:3nyhumqc6usMA1R2XH9UK6', 'spotify:track:0WOcJN6rOAsgAFTbnCze4J', 'spotify:track:36eCXw0b8seSZl4KtZ2AzJ', 'spotify:track:35xWgCIhFfnTT0FDLdbaZ1', 'spotify:track:1oJvrgdil8qHvqF543Upqd', 'spotify:track:0HRMPRU3I85I9fdecngu3u', 'spotify:track:5jxw7FJ2JW3qBspTHRQu2U', 'spotify:track:1DB7sjKLuzCoIlSeRulE4Q', 'spotify:track:5nhKTXNuUK9gYaHIfGRSdC', 'spotify:track:2zB0qQzvH3U8HN9zTReHZb', 'spotify:track:0M4PcNyGDLhemL0Ro5NeFp', 'spotify:track:5DcrwGaCgfhnOgX56a6rss', 'spotify:track:1FbHpjJjWGwH0pYl9XFiSS']\n",
      "['spotify:track:2n2a7CG0rgXadwWtVXN21F', 'spotify:track:4JMB7StRYhP9YWrABz5mvv', 'spotify:track:63JygVQGiBmLBDQD2H1XN5', 'spotify:track:37aUEdbDjLJtct2sbPRYva', 'spotify:track:5ACLrTERL7b7JQd2ZTfMjz', 'spotify:track:0YLPp1XFg20lsWOiF6kYwm', 'spotify:track:386Y2BhIiL8qvQihX80F3V', 'spotify:track:0UdssF0wBtkGmbTvCCEQFZ', 'spotify:track:3nyhumqc6usMA1R2XH9UK6', 'spotify:track:0WOcJN6rOAsgAFTbnCze4J', 'spotify:track:36eCXw0b8seSZl4KtZ2AzJ', 'spotify:track:35xWgCIhFfnTT0FDLdbaZ1', 'spotify:track:1oJvrgdil8qHvqF543Upqd', 'spotify:track:0HRMPRU3I85I9fdecngu3u', 'spotify:track:5jxw7FJ2JW3qBspTHRQu2U', 'spotify:track:1DB7sjKLuzCoIlSeRulE4Q', 'spotify:track:5nhKTXNuUK9gYaHIfGRSdC', 'spotify:track:2zB0qQzvH3U8HN9zTReHZb', 'spotify:track:0M4PcNyGDLhemL0Ro5NeFp', 'spotify:track:5DcrwGaCgfhnOgX56a6rss', 'spotify:track:1FbHpjJjWGwH0pYl9XFiSS', 'spotify:track:3imAwhFGvdTdRkavVADOIK']\n",
      "['spotify:track:2n2a7CG0rgXadwWtVXN21F', 'spotify:track:4JMB7StRYhP9YWrABz5mvv', 'spotify:track:63JygVQGiBmLBDQD2H1XN5', 'spotify:track:37aUEdbDjLJtct2sbPRYva', 'spotify:track:5ACLrTERL7b7JQd2ZTfMjz', 'spotify:track:0YLPp1XFg20lsWOiF6kYwm', 'spotify:track:386Y2BhIiL8qvQihX80F3V', 'spotify:track:0UdssF0wBtkGmbTvCCEQFZ', 'spotify:track:3nyhumqc6usMA1R2XH9UK6', 'spotify:track:0WOcJN6rOAsgAFTbnCze4J', 'spotify:track:36eCXw0b8seSZl4KtZ2AzJ', 'spotify:track:35xWgCIhFfnTT0FDLdbaZ1', 'spotify:track:1oJvrgdil8qHvqF543Upqd', 'spotify:track:0HRMPRU3I85I9fdecngu3u', 'spotify:track:5jxw7FJ2JW3qBspTHRQu2U', 'spotify:track:1DB7sjKLuzCoIlSeRulE4Q', 'spotify:track:5nhKTXNuUK9gYaHIfGRSdC', 'spotify:track:2zB0qQzvH3U8HN9zTReHZb', 'spotify:track:0M4PcNyGDLhemL0Ro5NeFp', 'spotify:track:5DcrwGaCgfhnOgX56a6rss', 'spotify:track:1FbHpjJjWGwH0pYl9XFiSS', 'spotify:track:3imAwhFGvdTdRkavVADOIK', 'spotify:track:3nHrPC7I2S0nsBT2nzGJSA']\n",
      "['spotify:track:2n2a7CG0rgXadwWtVXN21F', 'spotify:track:4JMB7StRYhP9YWrABz5mvv', 'spotify:track:63JygVQGiBmLBDQD2H1XN5', 'spotify:track:37aUEdbDjLJtct2sbPRYva', 'spotify:track:5ACLrTERL7b7JQd2ZTfMjz', 'spotify:track:0YLPp1XFg20lsWOiF6kYwm', 'spotify:track:386Y2BhIiL8qvQihX80F3V', 'spotify:track:0UdssF0wBtkGmbTvCCEQFZ', 'spotify:track:3nyhumqc6usMA1R2XH9UK6', 'spotify:track:0WOcJN6rOAsgAFTbnCze4J', 'spotify:track:36eCXw0b8seSZl4KtZ2AzJ', 'spotify:track:35xWgCIhFfnTT0FDLdbaZ1', 'spotify:track:1oJvrgdil8qHvqF543Upqd', 'spotify:track:0HRMPRU3I85I9fdecngu3u', 'spotify:track:5jxw7FJ2JW3qBspTHRQu2U', 'spotify:track:1DB7sjKLuzCoIlSeRulE4Q', 'spotify:track:5nhKTXNuUK9gYaHIfGRSdC', 'spotify:track:2zB0qQzvH3U8HN9zTReHZb', 'spotify:track:0M4PcNyGDLhemL0Ro5NeFp', 'spotify:track:5DcrwGaCgfhnOgX56a6rss', 'spotify:track:1FbHpjJjWGwH0pYl9XFiSS', 'spotify:track:3imAwhFGvdTdRkavVADOIK', 'spotify:track:3nHrPC7I2S0nsBT2nzGJSA', 'spotify:track:2e6RYZToDNxzu9LbqiZ9sg']\n",
      "['spotify:track:2n2a7CG0rgXadwWtVXN21F', 'spotify:track:4JMB7StRYhP9YWrABz5mvv', 'spotify:track:63JygVQGiBmLBDQD2H1XN5', 'spotify:track:37aUEdbDjLJtct2sbPRYva', 'spotify:track:5ACLrTERL7b7JQd2ZTfMjz', 'spotify:track:0YLPp1XFg20lsWOiF6kYwm', 'spotify:track:386Y2BhIiL8qvQihX80F3V', 'spotify:track:0UdssF0wBtkGmbTvCCEQFZ', 'spotify:track:3nyhumqc6usMA1R2XH9UK6', 'spotify:track:0WOcJN6rOAsgAFTbnCze4J', 'spotify:track:36eCXw0b8seSZl4KtZ2AzJ', 'spotify:track:35xWgCIhFfnTT0FDLdbaZ1', 'spotify:track:1oJvrgdil8qHvqF543Upqd', 'spotify:track:0HRMPRU3I85I9fdecngu3u', 'spotify:track:5jxw7FJ2JW3qBspTHRQu2U', 'spotify:track:1DB7sjKLuzCoIlSeRulE4Q', 'spotify:track:5nhKTXNuUK9gYaHIfGRSdC', 'spotify:track:2zB0qQzvH3U8HN9zTReHZb', 'spotify:track:0M4PcNyGDLhemL0Ro5NeFp', 'spotify:track:5DcrwGaCgfhnOgX56a6rss', 'spotify:track:1FbHpjJjWGwH0pYl9XFiSS', 'spotify:track:3imAwhFGvdTdRkavVADOIK', 'spotify:track:3nHrPC7I2S0nsBT2nzGJSA', 'spotify:track:2e6RYZToDNxzu9LbqiZ9sg', 'spotify:track:5GHeGKTmtXnLcgoT7BJ9Dz']\n",
      "['spotify:track:2n2a7CG0rgXadwWtVXN21F', 'spotify:track:4JMB7StRYhP9YWrABz5mvv', 'spotify:track:63JygVQGiBmLBDQD2H1XN5', 'spotify:track:37aUEdbDjLJtct2sbPRYva', 'spotify:track:5ACLrTERL7b7JQd2ZTfMjz', 'spotify:track:0YLPp1XFg20lsWOiF6kYwm', 'spotify:track:386Y2BhIiL8qvQihX80F3V', 'spotify:track:0UdssF0wBtkGmbTvCCEQFZ', 'spotify:track:3nyhumqc6usMA1R2XH9UK6', 'spotify:track:0WOcJN6rOAsgAFTbnCze4J', 'spotify:track:36eCXw0b8seSZl4KtZ2AzJ', 'spotify:track:35xWgCIhFfnTT0FDLdbaZ1', 'spotify:track:1oJvrgdil8qHvqF543Upqd', 'spotify:track:0HRMPRU3I85I9fdecngu3u', 'spotify:track:5jxw7FJ2JW3qBspTHRQu2U', 'spotify:track:1DB7sjKLuzCoIlSeRulE4Q', 'spotify:track:5nhKTXNuUK9gYaHIfGRSdC', 'spotify:track:2zB0qQzvH3U8HN9zTReHZb', 'spotify:track:0M4PcNyGDLhemL0Ro5NeFp', 'spotify:track:5DcrwGaCgfhnOgX56a6rss', 'spotify:track:1FbHpjJjWGwH0pYl9XFiSS', 'spotify:track:3imAwhFGvdTdRkavVADOIK', 'spotify:track:3nHrPC7I2S0nsBT2nzGJSA', 'spotify:track:2e6RYZToDNxzu9LbqiZ9sg', 'spotify:track:5GHeGKTmtXnLcgoT7BJ9Dz', 'spotify:track:0wEGo9LsSrSUz9HOtraWAO']\n",
      "['spotify:track:2n2a7CG0rgXadwWtVXN21F', 'spotify:track:4JMB7StRYhP9YWrABz5mvv', 'spotify:track:63JygVQGiBmLBDQD2H1XN5', 'spotify:track:37aUEdbDjLJtct2sbPRYva', 'spotify:track:5ACLrTERL7b7JQd2ZTfMjz', 'spotify:track:0YLPp1XFg20lsWOiF6kYwm', 'spotify:track:386Y2BhIiL8qvQihX80F3V', 'spotify:track:0UdssF0wBtkGmbTvCCEQFZ', 'spotify:track:3nyhumqc6usMA1R2XH9UK6', 'spotify:track:0WOcJN6rOAsgAFTbnCze4J', 'spotify:track:36eCXw0b8seSZl4KtZ2AzJ', 'spotify:track:35xWgCIhFfnTT0FDLdbaZ1', 'spotify:track:1oJvrgdil8qHvqF543Upqd', 'spotify:track:0HRMPRU3I85I9fdecngu3u', 'spotify:track:5jxw7FJ2JW3qBspTHRQu2U', 'spotify:track:1DB7sjKLuzCoIlSeRulE4Q', 'spotify:track:5nhKTXNuUK9gYaHIfGRSdC', 'spotify:track:2zB0qQzvH3U8HN9zTReHZb', 'spotify:track:0M4PcNyGDLhemL0Ro5NeFp', 'spotify:track:5DcrwGaCgfhnOgX56a6rss', 'spotify:track:1FbHpjJjWGwH0pYl9XFiSS', 'spotify:track:3imAwhFGvdTdRkavVADOIK', 'spotify:track:3nHrPC7I2S0nsBT2nzGJSA', 'spotify:track:2e6RYZToDNxzu9LbqiZ9sg', 'spotify:track:5GHeGKTmtXnLcgoT7BJ9Dz', 'spotify:track:0wEGo9LsSrSUz9HOtraWAO', 'spotify:track:4zWTya8tPMuoyDiJOLq5Vr']\n",
      "['spotify:track:2n2a7CG0rgXadwWtVXN21F', 'spotify:track:4JMB7StRYhP9YWrABz5mvv', 'spotify:track:63JygVQGiBmLBDQD2H1XN5', 'spotify:track:37aUEdbDjLJtct2sbPRYva', 'spotify:track:5ACLrTERL7b7JQd2ZTfMjz', 'spotify:track:0YLPp1XFg20lsWOiF6kYwm', 'spotify:track:386Y2BhIiL8qvQihX80F3V', 'spotify:track:0UdssF0wBtkGmbTvCCEQFZ', 'spotify:track:3nyhumqc6usMA1R2XH9UK6', 'spotify:track:0WOcJN6rOAsgAFTbnCze4J', 'spotify:track:36eCXw0b8seSZl4KtZ2AzJ', 'spotify:track:35xWgCIhFfnTT0FDLdbaZ1', 'spotify:track:1oJvrgdil8qHvqF543Upqd', 'spotify:track:0HRMPRU3I85I9fdecngu3u', 'spotify:track:5jxw7FJ2JW3qBspTHRQu2U', 'spotify:track:1DB7sjKLuzCoIlSeRulE4Q', 'spotify:track:5nhKTXNuUK9gYaHIfGRSdC', 'spotify:track:2zB0qQzvH3U8HN9zTReHZb', 'spotify:track:0M4PcNyGDLhemL0Ro5NeFp', 'spotify:track:5DcrwGaCgfhnOgX56a6rss', 'spotify:track:1FbHpjJjWGwH0pYl9XFiSS', 'spotify:track:3imAwhFGvdTdRkavVADOIK', 'spotify:track:3nHrPC7I2S0nsBT2nzGJSA', 'spotify:track:2e6RYZToDNxzu9LbqiZ9sg', 'spotify:track:5GHeGKTmtXnLcgoT7BJ9Dz', 'spotify:track:0wEGo9LsSrSUz9HOtraWAO', 'spotify:track:4zWTya8tPMuoyDiJOLq5Vr', 'spotify:track:5tFB3DmcBnS6st75jFQlWB']\n",
      "['spotify:track:2n2a7CG0rgXadwWtVXN21F', 'spotify:track:4JMB7StRYhP9YWrABz5mvv', 'spotify:track:63JygVQGiBmLBDQD2H1XN5', 'spotify:track:37aUEdbDjLJtct2sbPRYva', 'spotify:track:5ACLrTERL7b7JQd2ZTfMjz', 'spotify:track:0YLPp1XFg20lsWOiF6kYwm', 'spotify:track:386Y2BhIiL8qvQihX80F3V', 'spotify:track:0UdssF0wBtkGmbTvCCEQFZ', 'spotify:track:3nyhumqc6usMA1R2XH9UK6', 'spotify:track:0WOcJN6rOAsgAFTbnCze4J', 'spotify:track:36eCXw0b8seSZl4KtZ2AzJ', 'spotify:track:35xWgCIhFfnTT0FDLdbaZ1', 'spotify:track:1oJvrgdil8qHvqF543Upqd', 'spotify:track:0HRMPRU3I85I9fdecngu3u', 'spotify:track:5jxw7FJ2JW3qBspTHRQu2U', 'spotify:track:1DB7sjKLuzCoIlSeRulE4Q', 'spotify:track:5nhKTXNuUK9gYaHIfGRSdC', 'spotify:track:2zB0qQzvH3U8HN9zTReHZb', 'spotify:track:0M4PcNyGDLhemL0Ro5NeFp', 'spotify:track:5DcrwGaCgfhnOgX56a6rss', 'spotify:track:1FbHpjJjWGwH0pYl9XFiSS', 'spotify:track:3imAwhFGvdTdRkavVADOIK', 'spotify:track:3nHrPC7I2S0nsBT2nzGJSA', 'spotify:track:2e6RYZToDNxzu9LbqiZ9sg', 'spotify:track:5GHeGKTmtXnLcgoT7BJ9Dz', 'spotify:track:0wEGo9LsSrSUz9HOtraWAO', 'spotify:track:4zWTya8tPMuoyDiJOLq5Vr', 'spotify:track:5tFB3DmcBnS6st75jFQlWB', 'spotify:track:5cYbYemspYYx4VxdTsvKYO']\n",
      "['spotify:track:2n2a7CG0rgXadwWtVXN21F', 'spotify:track:4JMB7StRYhP9YWrABz5mvv', 'spotify:track:63JygVQGiBmLBDQD2H1XN5', 'spotify:track:37aUEdbDjLJtct2sbPRYva', 'spotify:track:5ACLrTERL7b7JQd2ZTfMjz', 'spotify:track:0YLPp1XFg20lsWOiF6kYwm', 'spotify:track:386Y2BhIiL8qvQihX80F3V', 'spotify:track:0UdssF0wBtkGmbTvCCEQFZ', 'spotify:track:3nyhumqc6usMA1R2XH9UK6', 'spotify:track:0WOcJN6rOAsgAFTbnCze4J', 'spotify:track:36eCXw0b8seSZl4KtZ2AzJ', 'spotify:track:35xWgCIhFfnTT0FDLdbaZ1', 'spotify:track:1oJvrgdil8qHvqF543Upqd', 'spotify:track:0HRMPRU3I85I9fdecngu3u', 'spotify:track:5jxw7FJ2JW3qBspTHRQu2U', 'spotify:track:1DB7sjKLuzCoIlSeRulE4Q', 'spotify:track:5nhKTXNuUK9gYaHIfGRSdC', 'spotify:track:2zB0qQzvH3U8HN9zTReHZb', 'spotify:track:0M4PcNyGDLhemL0Ro5NeFp', 'spotify:track:5DcrwGaCgfhnOgX56a6rss', 'spotify:track:1FbHpjJjWGwH0pYl9XFiSS', 'spotify:track:3imAwhFGvdTdRkavVADOIK', 'spotify:track:3nHrPC7I2S0nsBT2nzGJSA', 'spotify:track:2e6RYZToDNxzu9LbqiZ9sg', 'spotify:track:5GHeGKTmtXnLcgoT7BJ9Dz', 'spotify:track:0wEGo9LsSrSUz9HOtraWAO', 'spotify:track:4zWTya8tPMuoyDiJOLq5Vr', 'spotify:track:5tFB3DmcBnS6st75jFQlWB', 'spotify:track:5cYbYemspYYx4VxdTsvKYO', 'spotify:track:4Rg2G268G0g5macAixi0ni']\n",
      "['spotify:track:2n2a7CG0rgXadwWtVXN21F', 'spotify:track:4JMB7StRYhP9YWrABz5mvv', 'spotify:track:63JygVQGiBmLBDQD2H1XN5', 'spotify:track:37aUEdbDjLJtct2sbPRYva', 'spotify:track:5ACLrTERL7b7JQd2ZTfMjz', 'spotify:track:0YLPp1XFg20lsWOiF6kYwm', 'spotify:track:386Y2BhIiL8qvQihX80F3V', 'spotify:track:0UdssF0wBtkGmbTvCCEQFZ', 'spotify:track:3nyhumqc6usMA1R2XH9UK6', 'spotify:track:0WOcJN6rOAsgAFTbnCze4J', 'spotify:track:36eCXw0b8seSZl4KtZ2AzJ', 'spotify:track:35xWgCIhFfnTT0FDLdbaZ1', 'spotify:track:1oJvrgdil8qHvqF543Upqd', 'spotify:track:0HRMPRU3I85I9fdecngu3u', 'spotify:track:5jxw7FJ2JW3qBspTHRQu2U', 'spotify:track:1DB7sjKLuzCoIlSeRulE4Q', 'spotify:track:5nhKTXNuUK9gYaHIfGRSdC', 'spotify:track:2zB0qQzvH3U8HN9zTReHZb', 'spotify:track:0M4PcNyGDLhemL0Ro5NeFp', 'spotify:track:5DcrwGaCgfhnOgX56a6rss', 'spotify:track:1FbHpjJjWGwH0pYl9XFiSS', 'spotify:track:3imAwhFGvdTdRkavVADOIK', 'spotify:track:3nHrPC7I2S0nsBT2nzGJSA', 'spotify:track:2e6RYZToDNxzu9LbqiZ9sg', 'spotify:track:5GHeGKTmtXnLcgoT7BJ9Dz', 'spotify:track:0wEGo9LsSrSUz9HOtraWAO', 'spotify:track:4zWTya8tPMuoyDiJOLq5Vr', 'spotify:track:5tFB3DmcBnS6st75jFQlWB', 'spotify:track:5cYbYemspYYx4VxdTsvKYO', 'spotify:track:4Rg2G268G0g5macAixi0ni', 'spotify:track:6eT4PDHm2UNjOQDH86THOg']\n",
      "['spotify:track:2n2a7CG0rgXadwWtVXN21F', 'spotify:track:4JMB7StRYhP9YWrABz5mvv', 'spotify:track:63JygVQGiBmLBDQD2H1XN5', 'spotify:track:37aUEdbDjLJtct2sbPRYva', 'spotify:track:5ACLrTERL7b7JQd2ZTfMjz', 'spotify:track:0YLPp1XFg20lsWOiF6kYwm', 'spotify:track:386Y2BhIiL8qvQihX80F3V', 'spotify:track:0UdssF0wBtkGmbTvCCEQFZ', 'spotify:track:3nyhumqc6usMA1R2XH9UK6', 'spotify:track:0WOcJN6rOAsgAFTbnCze4J', 'spotify:track:36eCXw0b8seSZl4KtZ2AzJ', 'spotify:track:35xWgCIhFfnTT0FDLdbaZ1', 'spotify:track:1oJvrgdil8qHvqF543Upqd', 'spotify:track:0HRMPRU3I85I9fdecngu3u', 'spotify:track:5jxw7FJ2JW3qBspTHRQu2U', 'spotify:track:1DB7sjKLuzCoIlSeRulE4Q', 'spotify:track:5nhKTXNuUK9gYaHIfGRSdC', 'spotify:track:2zB0qQzvH3U8HN9zTReHZb', 'spotify:track:0M4PcNyGDLhemL0Ro5NeFp', 'spotify:track:5DcrwGaCgfhnOgX56a6rss', 'spotify:track:1FbHpjJjWGwH0pYl9XFiSS', 'spotify:track:3imAwhFGvdTdRkavVADOIK', 'spotify:track:3nHrPC7I2S0nsBT2nzGJSA', 'spotify:track:2e6RYZToDNxzu9LbqiZ9sg', 'spotify:track:5GHeGKTmtXnLcgoT7BJ9Dz', 'spotify:track:0wEGo9LsSrSUz9HOtraWAO', 'spotify:track:4zWTya8tPMuoyDiJOLq5Vr', 'spotify:track:5tFB3DmcBnS6st75jFQlWB', 'spotify:track:5cYbYemspYYx4VxdTsvKYO', 'spotify:track:4Rg2G268G0g5macAixi0ni', 'spotify:track:6eT4PDHm2UNjOQDH86THOg', 'spotify:track:1LVZuuDDnSImcW2Po44G7Q']\n",
      "['spotify:track:2n2a7CG0rgXadwWtVXN21F', 'spotify:track:4JMB7StRYhP9YWrABz5mvv', 'spotify:track:63JygVQGiBmLBDQD2H1XN5', 'spotify:track:37aUEdbDjLJtct2sbPRYva', 'spotify:track:5ACLrTERL7b7JQd2ZTfMjz', 'spotify:track:0YLPp1XFg20lsWOiF6kYwm', 'spotify:track:386Y2BhIiL8qvQihX80F3V', 'spotify:track:0UdssF0wBtkGmbTvCCEQFZ', 'spotify:track:3nyhumqc6usMA1R2XH9UK6', 'spotify:track:0WOcJN6rOAsgAFTbnCze4J', 'spotify:track:36eCXw0b8seSZl4KtZ2AzJ', 'spotify:track:35xWgCIhFfnTT0FDLdbaZ1', 'spotify:track:1oJvrgdil8qHvqF543Upqd', 'spotify:track:0HRMPRU3I85I9fdecngu3u', 'spotify:track:5jxw7FJ2JW3qBspTHRQu2U', 'spotify:track:1DB7sjKLuzCoIlSeRulE4Q', 'spotify:track:5nhKTXNuUK9gYaHIfGRSdC', 'spotify:track:2zB0qQzvH3U8HN9zTReHZb', 'spotify:track:0M4PcNyGDLhemL0Ro5NeFp', 'spotify:track:5DcrwGaCgfhnOgX56a6rss', 'spotify:track:1FbHpjJjWGwH0pYl9XFiSS', 'spotify:track:3imAwhFGvdTdRkavVADOIK', 'spotify:track:3nHrPC7I2S0nsBT2nzGJSA', 'spotify:track:2e6RYZToDNxzu9LbqiZ9sg', 'spotify:track:5GHeGKTmtXnLcgoT7BJ9Dz', 'spotify:track:0wEGo9LsSrSUz9HOtraWAO', 'spotify:track:4zWTya8tPMuoyDiJOLq5Vr', 'spotify:track:5tFB3DmcBnS6st75jFQlWB', 'spotify:track:5cYbYemspYYx4VxdTsvKYO', 'spotify:track:4Rg2G268G0g5macAixi0ni', 'spotify:track:6eT4PDHm2UNjOQDH86THOg', 'spotify:track:1LVZuuDDnSImcW2Po44G7Q', 'spotify:track:1LAlLBTGBUO0MDA8IbSysd']\n",
      "['spotify:track:2n2a7CG0rgXadwWtVXN21F', 'spotify:track:4JMB7StRYhP9YWrABz5mvv', 'spotify:track:63JygVQGiBmLBDQD2H1XN5', 'spotify:track:37aUEdbDjLJtct2sbPRYva', 'spotify:track:5ACLrTERL7b7JQd2ZTfMjz', 'spotify:track:0YLPp1XFg20lsWOiF6kYwm', 'spotify:track:386Y2BhIiL8qvQihX80F3V', 'spotify:track:0UdssF0wBtkGmbTvCCEQFZ', 'spotify:track:3nyhumqc6usMA1R2XH9UK6', 'spotify:track:0WOcJN6rOAsgAFTbnCze4J', 'spotify:track:36eCXw0b8seSZl4KtZ2AzJ', 'spotify:track:35xWgCIhFfnTT0FDLdbaZ1', 'spotify:track:1oJvrgdil8qHvqF543Upqd', 'spotify:track:0HRMPRU3I85I9fdecngu3u', 'spotify:track:5jxw7FJ2JW3qBspTHRQu2U', 'spotify:track:1DB7sjKLuzCoIlSeRulE4Q', 'spotify:track:5nhKTXNuUK9gYaHIfGRSdC', 'spotify:track:2zB0qQzvH3U8HN9zTReHZb', 'spotify:track:0M4PcNyGDLhemL0Ro5NeFp', 'spotify:track:5DcrwGaCgfhnOgX56a6rss', 'spotify:track:1FbHpjJjWGwH0pYl9XFiSS', 'spotify:track:3imAwhFGvdTdRkavVADOIK', 'spotify:track:3nHrPC7I2S0nsBT2nzGJSA', 'spotify:track:2e6RYZToDNxzu9LbqiZ9sg', 'spotify:track:5GHeGKTmtXnLcgoT7BJ9Dz', 'spotify:track:0wEGo9LsSrSUz9HOtraWAO', 'spotify:track:4zWTya8tPMuoyDiJOLq5Vr', 'spotify:track:5tFB3DmcBnS6st75jFQlWB', 'spotify:track:5cYbYemspYYx4VxdTsvKYO', 'spotify:track:4Rg2G268G0g5macAixi0ni', 'spotify:track:6eT4PDHm2UNjOQDH86THOg', 'spotify:track:1LVZuuDDnSImcW2Po44G7Q', 'spotify:track:1LAlLBTGBUO0MDA8IbSysd', 'spotify:track:5Ko02ldO65NmVX9GBCU2uV']\n",
      "['spotify:track:2n2a7CG0rgXadwWtVXN21F', 'spotify:track:4JMB7StRYhP9YWrABz5mvv', 'spotify:track:63JygVQGiBmLBDQD2H1XN5', 'spotify:track:37aUEdbDjLJtct2sbPRYva', 'spotify:track:5ACLrTERL7b7JQd2ZTfMjz', 'spotify:track:0YLPp1XFg20lsWOiF6kYwm', 'spotify:track:386Y2BhIiL8qvQihX80F3V', 'spotify:track:0UdssF0wBtkGmbTvCCEQFZ', 'spotify:track:3nyhumqc6usMA1R2XH9UK6', 'spotify:track:0WOcJN6rOAsgAFTbnCze4J', 'spotify:track:36eCXw0b8seSZl4KtZ2AzJ', 'spotify:track:35xWgCIhFfnTT0FDLdbaZ1', 'spotify:track:1oJvrgdil8qHvqF543Upqd', 'spotify:track:0HRMPRU3I85I9fdecngu3u', 'spotify:track:5jxw7FJ2JW3qBspTHRQu2U', 'spotify:track:1DB7sjKLuzCoIlSeRulE4Q', 'spotify:track:5nhKTXNuUK9gYaHIfGRSdC', 'spotify:track:2zB0qQzvH3U8HN9zTReHZb', 'spotify:track:0M4PcNyGDLhemL0Ro5NeFp', 'spotify:track:5DcrwGaCgfhnOgX56a6rss', 'spotify:track:1FbHpjJjWGwH0pYl9XFiSS', 'spotify:track:3imAwhFGvdTdRkavVADOIK', 'spotify:track:3nHrPC7I2S0nsBT2nzGJSA', 'spotify:track:2e6RYZToDNxzu9LbqiZ9sg', 'spotify:track:5GHeGKTmtXnLcgoT7BJ9Dz', 'spotify:track:0wEGo9LsSrSUz9HOtraWAO', 'spotify:track:4zWTya8tPMuoyDiJOLq5Vr', 'spotify:track:5tFB3DmcBnS6st75jFQlWB', 'spotify:track:5cYbYemspYYx4VxdTsvKYO', 'spotify:track:4Rg2G268G0g5macAixi0ni', 'spotify:track:6eT4PDHm2UNjOQDH86THOg', 'spotify:track:1LVZuuDDnSImcW2Po44G7Q', 'spotify:track:1LAlLBTGBUO0MDA8IbSysd', 'spotify:track:5Ko02ldO65NmVX9GBCU2uV', 'spotify:track:0ITvwZjKGEKwiw2w6t0Rco']\n",
      "['spotify:track:2n2a7CG0rgXadwWtVXN21F', 'spotify:track:4JMB7StRYhP9YWrABz5mvv', 'spotify:track:63JygVQGiBmLBDQD2H1XN5', 'spotify:track:37aUEdbDjLJtct2sbPRYva', 'spotify:track:5ACLrTERL7b7JQd2ZTfMjz', 'spotify:track:0YLPp1XFg20lsWOiF6kYwm', 'spotify:track:386Y2BhIiL8qvQihX80F3V', 'spotify:track:0UdssF0wBtkGmbTvCCEQFZ', 'spotify:track:3nyhumqc6usMA1R2XH9UK6', 'spotify:track:0WOcJN6rOAsgAFTbnCze4J', 'spotify:track:36eCXw0b8seSZl4KtZ2AzJ', 'spotify:track:35xWgCIhFfnTT0FDLdbaZ1', 'spotify:track:1oJvrgdil8qHvqF543Upqd', 'spotify:track:0HRMPRU3I85I9fdecngu3u', 'spotify:track:5jxw7FJ2JW3qBspTHRQu2U', 'spotify:track:1DB7sjKLuzCoIlSeRulE4Q', 'spotify:track:5nhKTXNuUK9gYaHIfGRSdC', 'spotify:track:2zB0qQzvH3U8HN9zTReHZb', 'spotify:track:0M4PcNyGDLhemL0Ro5NeFp', 'spotify:track:5DcrwGaCgfhnOgX56a6rss', 'spotify:track:1FbHpjJjWGwH0pYl9XFiSS', 'spotify:track:3imAwhFGvdTdRkavVADOIK', 'spotify:track:3nHrPC7I2S0nsBT2nzGJSA', 'spotify:track:2e6RYZToDNxzu9LbqiZ9sg', 'spotify:track:5GHeGKTmtXnLcgoT7BJ9Dz', 'spotify:track:0wEGo9LsSrSUz9HOtraWAO', 'spotify:track:4zWTya8tPMuoyDiJOLq5Vr', 'spotify:track:5tFB3DmcBnS6st75jFQlWB', 'spotify:track:5cYbYemspYYx4VxdTsvKYO', 'spotify:track:4Rg2G268G0g5macAixi0ni', 'spotify:track:6eT4PDHm2UNjOQDH86THOg', 'spotify:track:1LVZuuDDnSImcW2Po44G7Q', 'spotify:track:1LAlLBTGBUO0MDA8IbSysd', 'spotify:track:5Ko02ldO65NmVX9GBCU2uV', 'spotify:track:0ITvwZjKGEKwiw2w6t0Rco', 'spotify:track:1Ny8RoE9nPqyM3xfMjwR81']\n",
      "['spotify:track:2n2a7CG0rgXadwWtVXN21F', 'spotify:track:4JMB7StRYhP9YWrABz5mvv', 'spotify:track:63JygVQGiBmLBDQD2H1XN5', 'spotify:track:37aUEdbDjLJtct2sbPRYva', 'spotify:track:5ACLrTERL7b7JQd2ZTfMjz', 'spotify:track:0YLPp1XFg20lsWOiF6kYwm', 'spotify:track:386Y2BhIiL8qvQihX80F3V', 'spotify:track:0UdssF0wBtkGmbTvCCEQFZ', 'spotify:track:3nyhumqc6usMA1R2XH9UK6', 'spotify:track:0WOcJN6rOAsgAFTbnCze4J', 'spotify:track:36eCXw0b8seSZl4KtZ2AzJ', 'spotify:track:35xWgCIhFfnTT0FDLdbaZ1', 'spotify:track:1oJvrgdil8qHvqF543Upqd', 'spotify:track:0HRMPRU3I85I9fdecngu3u', 'spotify:track:5jxw7FJ2JW3qBspTHRQu2U', 'spotify:track:1DB7sjKLuzCoIlSeRulE4Q', 'spotify:track:5nhKTXNuUK9gYaHIfGRSdC', 'spotify:track:2zB0qQzvH3U8HN9zTReHZb', 'spotify:track:0M4PcNyGDLhemL0Ro5NeFp', 'spotify:track:5DcrwGaCgfhnOgX56a6rss', 'spotify:track:1FbHpjJjWGwH0pYl9XFiSS', 'spotify:track:3imAwhFGvdTdRkavVADOIK', 'spotify:track:3nHrPC7I2S0nsBT2nzGJSA', 'spotify:track:2e6RYZToDNxzu9LbqiZ9sg', 'spotify:track:5GHeGKTmtXnLcgoT7BJ9Dz', 'spotify:track:0wEGo9LsSrSUz9HOtraWAO', 'spotify:track:4zWTya8tPMuoyDiJOLq5Vr', 'spotify:track:5tFB3DmcBnS6st75jFQlWB', 'spotify:track:5cYbYemspYYx4VxdTsvKYO', 'spotify:track:4Rg2G268G0g5macAixi0ni', 'spotify:track:6eT4PDHm2UNjOQDH86THOg', 'spotify:track:1LVZuuDDnSImcW2Po44G7Q', 'spotify:track:1LAlLBTGBUO0MDA8IbSysd', 'spotify:track:5Ko02ldO65NmVX9GBCU2uV', 'spotify:track:0ITvwZjKGEKwiw2w6t0Rco', 'spotify:track:1Ny8RoE9nPqyM3xfMjwR81', 'spotify:track:4geJYumRsMrAChwuSWa5yR']\n",
      "['spotify:track:2n2a7CG0rgXadwWtVXN21F', 'spotify:track:4JMB7StRYhP9YWrABz5mvv', 'spotify:track:63JygVQGiBmLBDQD2H1XN5', 'spotify:track:37aUEdbDjLJtct2sbPRYva', 'spotify:track:5ACLrTERL7b7JQd2ZTfMjz', 'spotify:track:0YLPp1XFg20lsWOiF6kYwm', 'spotify:track:386Y2BhIiL8qvQihX80F3V', 'spotify:track:0UdssF0wBtkGmbTvCCEQFZ', 'spotify:track:3nyhumqc6usMA1R2XH9UK6', 'spotify:track:0WOcJN6rOAsgAFTbnCze4J', 'spotify:track:36eCXw0b8seSZl4KtZ2AzJ', 'spotify:track:35xWgCIhFfnTT0FDLdbaZ1', 'spotify:track:1oJvrgdil8qHvqF543Upqd', 'spotify:track:0HRMPRU3I85I9fdecngu3u', 'spotify:track:5jxw7FJ2JW3qBspTHRQu2U', 'spotify:track:1DB7sjKLuzCoIlSeRulE4Q', 'spotify:track:5nhKTXNuUK9gYaHIfGRSdC', 'spotify:track:2zB0qQzvH3U8HN9zTReHZb', 'spotify:track:0M4PcNyGDLhemL0Ro5NeFp', 'spotify:track:5DcrwGaCgfhnOgX56a6rss', 'spotify:track:1FbHpjJjWGwH0pYl9XFiSS', 'spotify:track:3imAwhFGvdTdRkavVADOIK', 'spotify:track:3nHrPC7I2S0nsBT2nzGJSA', 'spotify:track:2e6RYZToDNxzu9LbqiZ9sg', 'spotify:track:5GHeGKTmtXnLcgoT7BJ9Dz', 'spotify:track:0wEGo9LsSrSUz9HOtraWAO', 'spotify:track:4zWTya8tPMuoyDiJOLq5Vr', 'spotify:track:5tFB3DmcBnS6st75jFQlWB', 'spotify:track:5cYbYemspYYx4VxdTsvKYO', 'spotify:track:4Rg2G268G0g5macAixi0ni', 'spotify:track:6eT4PDHm2UNjOQDH86THOg', 'spotify:track:1LVZuuDDnSImcW2Po44G7Q', 'spotify:track:1LAlLBTGBUO0MDA8IbSysd', 'spotify:track:5Ko02ldO65NmVX9GBCU2uV', 'spotify:track:0ITvwZjKGEKwiw2w6t0Rco', 'spotify:track:1Ny8RoE9nPqyM3xfMjwR81', 'spotify:track:4geJYumRsMrAChwuSWa5yR', 'spotify:track:10ZZqCt5vg6Bwy5c21OG2z']\n",
      "['spotify:track:2n2a7CG0rgXadwWtVXN21F', 'spotify:track:4JMB7StRYhP9YWrABz5mvv', 'spotify:track:63JygVQGiBmLBDQD2H1XN5', 'spotify:track:37aUEdbDjLJtct2sbPRYva', 'spotify:track:5ACLrTERL7b7JQd2ZTfMjz', 'spotify:track:0YLPp1XFg20lsWOiF6kYwm', 'spotify:track:386Y2BhIiL8qvQihX80F3V', 'spotify:track:0UdssF0wBtkGmbTvCCEQFZ', 'spotify:track:3nyhumqc6usMA1R2XH9UK6', 'spotify:track:0WOcJN6rOAsgAFTbnCze4J', 'spotify:track:36eCXw0b8seSZl4KtZ2AzJ', 'spotify:track:35xWgCIhFfnTT0FDLdbaZ1', 'spotify:track:1oJvrgdil8qHvqF543Upqd', 'spotify:track:0HRMPRU3I85I9fdecngu3u', 'spotify:track:5jxw7FJ2JW3qBspTHRQu2U', 'spotify:track:1DB7sjKLuzCoIlSeRulE4Q', 'spotify:track:5nhKTXNuUK9gYaHIfGRSdC', 'spotify:track:2zB0qQzvH3U8HN9zTReHZb', 'spotify:track:0M4PcNyGDLhemL0Ro5NeFp', 'spotify:track:5DcrwGaCgfhnOgX56a6rss', 'spotify:track:1FbHpjJjWGwH0pYl9XFiSS', 'spotify:track:3imAwhFGvdTdRkavVADOIK', 'spotify:track:3nHrPC7I2S0nsBT2nzGJSA', 'spotify:track:2e6RYZToDNxzu9LbqiZ9sg', 'spotify:track:5GHeGKTmtXnLcgoT7BJ9Dz', 'spotify:track:0wEGo9LsSrSUz9HOtraWAO', 'spotify:track:4zWTya8tPMuoyDiJOLq5Vr', 'spotify:track:5tFB3DmcBnS6st75jFQlWB', 'spotify:track:5cYbYemspYYx4VxdTsvKYO', 'spotify:track:4Rg2G268G0g5macAixi0ni', 'spotify:track:6eT4PDHm2UNjOQDH86THOg', 'spotify:track:1LVZuuDDnSImcW2Po44G7Q', 'spotify:track:1LAlLBTGBUO0MDA8IbSysd', 'spotify:track:5Ko02ldO65NmVX9GBCU2uV', 'spotify:track:0ITvwZjKGEKwiw2w6t0Rco', 'spotify:track:1Ny8RoE9nPqyM3xfMjwR81', 'spotify:track:4geJYumRsMrAChwuSWa5yR', 'spotify:track:10ZZqCt5vg6Bwy5c21OG2z', 'spotify:track:7kcApwUclbIw9B6MuVmqPc']\n",
      "['spotify:track:2n2a7CG0rgXadwWtVXN21F', 'spotify:track:4JMB7StRYhP9YWrABz5mvv', 'spotify:track:63JygVQGiBmLBDQD2H1XN5', 'spotify:track:37aUEdbDjLJtct2sbPRYva', 'spotify:track:5ACLrTERL7b7JQd2ZTfMjz', 'spotify:track:0YLPp1XFg20lsWOiF6kYwm', 'spotify:track:386Y2BhIiL8qvQihX80F3V', 'spotify:track:0UdssF0wBtkGmbTvCCEQFZ', 'spotify:track:3nyhumqc6usMA1R2XH9UK6', 'spotify:track:0WOcJN6rOAsgAFTbnCze4J', 'spotify:track:36eCXw0b8seSZl4KtZ2AzJ', 'spotify:track:35xWgCIhFfnTT0FDLdbaZ1', 'spotify:track:1oJvrgdil8qHvqF543Upqd', 'spotify:track:0HRMPRU3I85I9fdecngu3u', 'spotify:track:5jxw7FJ2JW3qBspTHRQu2U', 'spotify:track:1DB7sjKLuzCoIlSeRulE4Q', 'spotify:track:5nhKTXNuUK9gYaHIfGRSdC', 'spotify:track:2zB0qQzvH3U8HN9zTReHZb', 'spotify:track:0M4PcNyGDLhemL0Ro5NeFp', 'spotify:track:5DcrwGaCgfhnOgX56a6rss', 'spotify:track:1FbHpjJjWGwH0pYl9XFiSS', 'spotify:track:3imAwhFGvdTdRkavVADOIK', 'spotify:track:3nHrPC7I2S0nsBT2nzGJSA', 'spotify:track:2e6RYZToDNxzu9LbqiZ9sg', 'spotify:track:5GHeGKTmtXnLcgoT7BJ9Dz', 'spotify:track:0wEGo9LsSrSUz9HOtraWAO', 'spotify:track:4zWTya8tPMuoyDiJOLq5Vr', 'spotify:track:5tFB3DmcBnS6st75jFQlWB', 'spotify:track:5cYbYemspYYx4VxdTsvKYO', 'spotify:track:4Rg2G268G0g5macAixi0ni', 'spotify:track:6eT4PDHm2UNjOQDH86THOg', 'spotify:track:1LVZuuDDnSImcW2Po44G7Q', 'spotify:track:1LAlLBTGBUO0MDA8IbSysd', 'spotify:track:5Ko02ldO65NmVX9GBCU2uV', 'spotify:track:0ITvwZjKGEKwiw2w6t0Rco', 'spotify:track:1Ny8RoE9nPqyM3xfMjwR81', 'spotify:track:4geJYumRsMrAChwuSWa5yR', 'spotify:track:10ZZqCt5vg6Bwy5c21OG2z', 'spotify:track:7kcApwUclbIw9B6MuVmqPc', 'spotify:track:6ujJmSj0ArAHKrhLwsirGh']\n",
      "['spotify:track:2n2a7CG0rgXadwWtVXN21F', 'spotify:track:4JMB7StRYhP9YWrABz5mvv', 'spotify:track:63JygVQGiBmLBDQD2H1XN5', 'spotify:track:37aUEdbDjLJtct2sbPRYva', 'spotify:track:5ACLrTERL7b7JQd2ZTfMjz', 'spotify:track:0YLPp1XFg20lsWOiF6kYwm', 'spotify:track:386Y2BhIiL8qvQihX80F3V', 'spotify:track:0UdssF0wBtkGmbTvCCEQFZ', 'spotify:track:3nyhumqc6usMA1R2XH9UK6', 'spotify:track:0WOcJN6rOAsgAFTbnCze4J', 'spotify:track:36eCXw0b8seSZl4KtZ2AzJ', 'spotify:track:35xWgCIhFfnTT0FDLdbaZ1', 'spotify:track:1oJvrgdil8qHvqF543Upqd', 'spotify:track:0HRMPRU3I85I9fdecngu3u', 'spotify:track:5jxw7FJ2JW3qBspTHRQu2U', 'spotify:track:1DB7sjKLuzCoIlSeRulE4Q', 'spotify:track:5nhKTXNuUK9gYaHIfGRSdC', 'spotify:track:2zB0qQzvH3U8HN9zTReHZb', 'spotify:track:0M4PcNyGDLhemL0Ro5NeFp', 'spotify:track:5DcrwGaCgfhnOgX56a6rss', 'spotify:track:1FbHpjJjWGwH0pYl9XFiSS', 'spotify:track:3imAwhFGvdTdRkavVADOIK', 'spotify:track:3nHrPC7I2S0nsBT2nzGJSA', 'spotify:track:2e6RYZToDNxzu9LbqiZ9sg', 'spotify:track:5GHeGKTmtXnLcgoT7BJ9Dz', 'spotify:track:0wEGo9LsSrSUz9HOtraWAO', 'spotify:track:4zWTya8tPMuoyDiJOLq5Vr', 'spotify:track:5tFB3DmcBnS6st75jFQlWB', 'spotify:track:5cYbYemspYYx4VxdTsvKYO', 'spotify:track:4Rg2G268G0g5macAixi0ni', 'spotify:track:6eT4PDHm2UNjOQDH86THOg', 'spotify:track:1LVZuuDDnSImcW2Po44G7Q', 'spotify:track:1LAlLBTGBUO0MDA8IbSysd', 'spotify:track:5Ko02ldO65NmVX9GBCU2uV', 'spotify:track:0ITvwZjKGEKwiw2w6t0Rco', 'spotify:track:1Ny8RoE9nPqyM3xfMjwR81', 'spotify:track:4geJYumRsMrAChwuSWa5yR', 'spotify:track:10ZZqCt5vg6Bwy5c21OG2z', 'spotify:track:7kcApwUclbIw9B6MuVmqPc', 'spotify:track:6ujJmSj0ArAHKrhLwsirGh', 'spotify:track:5b45GXKaxTKKKxAY5QOyvY']\n",
      "['spotify:track:2n2a7CG0rgXadwWtVXN21F', 'spotify:track:4JMB7StRYhP9YWrABz5mvv', 'spotify:track:63JygVQGiBmLBDQD2H1XN5', 'spotify:track:37aUEdbDjLJtct2sbPRYva', 'spotify:track:5ACLrTERL7b7JQd2ZTfMjz', 'spotify:track:0YLPp1XFg20lsWOiF6kYwm', 'spotify:track:386Y2BhIiL8qvQihX80F3V', 'spotify:track:0UdssF0wBtkGmbTvCCEQFZ', 'spotify:track:3nyhumqc6usMA1R2XH9UK6', 'spotify:track:0WOcJN6rOAsgAFTbnCze4J', 'spotify:track:36eCXw0b8seSZl4KtZ2AzJ', 'spotify:track:35xWgCIhFfnTT0FDLdbaZ1', 'spotify:track:1oJvrgdil8qHvqF543Upqd', 'spotify:track:0HRMPRU3I85I9fdecngu3u', 'spotify:track:5jxw7FJ2JW3qBspTHRQu2U', 'spotify:track:1DB7sjKLuzCoIlSeRulE4Q', 'spotify:track:5nhKTXNuUK9gYaHIfGRSdC', 'spotify:track:2zB0qQzvH3U8HN9zTReHZb', 'spotify:track:0M4PcNyGDLhemL0Ro5NeFp', 'spotify:track:5DcrwGaCgfhnOgX56a6rss', 'spotify:track:1FbHpjJjWGwH0pYl9XFiSS', 'spotify:track:3imAwhFGvdTdRkavVADOIK', 'spotify:track:3nHrPC7I2S0nsBT2nzGJSA', 'spotify:track:2e6RYZToDNxzu9LbqiZ9sg', 'spotify:track:5GHeGKTmtXnLcgoT7BJ9Dz', 'spotify:track:0wEGo9LsSrSUz9HOtraWAO', 'spotify:track:4zWTya8tPMuoyDiJOLq5Vr', 'spotify:track:5tFB3DmcBnS6st75jFQlWB', 'spotify:track:5cYbYemspYYx4VxdTsvKYO', 'spotify:track:4Rg2G268G0g5macAixi0ni', 'spotify:track:6eT4PDHm2UNjOQDH86THOg', 'spotify:track:1LVZuuDDnSImcW2Po44G7Q', 'spotify:track:1LAlLBTGBUO0MDA8IbSysd', 'spotify:track:5Ko02ldO65NmVX9GBCU2uV', 'spotify:track:0ITvwZjKGEKwiw2w6t0Rco', 'spotify:track:1Ny8RoE9nPqyM3xfMjwR81', 'spotify:track:4geJYumRsMrAChwuSWa5yR', 'spotify:track:10ZZqCt5vg6Bwy5c21OG2z', 'spotify:track:7kcApwUclbIw9B6MuVmqPc', 'spotify:track:6ujJmSj0ArAHKrhLwsirGh', 'spotify:track:5b45GXKaxTKKKxAY5QOyvY', 'spotify:track:5AKUFr4GmY4VSIX54hyDi9']\n",
      "['spotify:track:2n2a7CG0rgXadwWtVXN21F', 'spotify:track:4JMB7StRYhP9YWrABz5mvv', 'spotify:track:63JygVQGiBmLBDQD2H1XN5', 'spotify:track:37aUEdbDjLJtct2sbPRYva', 'spotify:track:5ACLrTERL7b7JQd2ZTfMjz', 'spotify:track:0YLPp1XFg20lsWOiF6kYwm', 'spotify:track:386Y2BhIiL8qvQihX80F3V', 'spotify:track:0UdssF0wBtkGmbTvCCEQFZ', 'spotify:track:3nyhumqc6usMA1R2XH9UK6', 'spotify:track:0WOcJN6rOAsgAFTbnCze4J', 'spotify:track:36eCXw0b8seSZl4KtZ2AzJ', 'spotify:track:35xWgCIhFfnTT0FDLdbaZ1', 'spotify:track:1oJvrgdil8qHvqF543Upqd', 'spotify:track:0HRMPRU3I85I9fdecngu3u', 'spotify:track:5jxw7FJ2JW3qBspTHRQu2U', 'spotify:track:1DB7sjKLuzCoIlSeRulE4Q', 'spotify:track:5nhKTXNuUK9gYaHIfGRSdC', 'spotify:track:2zB0qQzvH3U8HN9zTReHZb', 'spotify:track:0M4PcNyGDLhemL0Ro5NeFp', 'spotify:track:5DcrwGaCgfhnOgX56a6rss', 'spotify:track:1FbHpjJjWGwH0pYl9XFiSS', 'spotify:track:3imAwhFGvdTdRkavVADOIK', 'spotify:track:3nHrPC7I2S0nsBT2nzGJSA', 'spotify:track:2e6RYZToDNxzu9LbqiZ9sg', 'spotify:track:5GHeGKTmtXnLcgoT7BJ9Dz', 'spotify:track:0wEGo9LsSrSUz9HOtraWAO', 'spotify:track:4zWTya8tPMuoyDiJOLq5Vr', 'spotify:track:5tFB3DmcBnS6st75jFQlWB', 'spotify:track:5cYbYemspYYx4VxdTsvKYO', 'spotify:track:4Rg2G268G0g5macAixi0ni', 'spotify:track:6eT4PDHm2UNjOQDH86THOg', 'spotify:track:1LVZuuDDnSImcW2Po44G7Q', 'spotify:track:1LAlLBTGBUO0MDA8IbSysd', 'spotify:track:5Ko02ldO65NmVX9GBCU2uV', 'spotify:track:0ITvwZjKGEKwiw2w6t0Rco', 'spotify:track:1Ny8RoE9nPqyM3xfMjwR81', 'spotify:track:4geJYumRsMrAChwuSWa5yR', 'spotify:track:10ZZqCt5vg6Bwy5c21OG2z', 'spotify:track:7kcApwUclbIw9B6MuVmqPc', 'spotify:track:6ujJmSj0ArAHKrhLwsirGh', 'spotify:track:5b45GXKaxTKKKxAY5QOyvY', 'spotify:track:5AKUFr4GmY4VSIX54hyDi9', 'spotify:track:65NDRsNTjKcfWVhqdPJIx9']\n",
      "['spotify:track:2n2a7CG0rgXadwWtVXN21F', 'spotify:track:4JMB7StRYhP9YWrABz5mvv', 'spotify:track:63JygVQGiBmLBDQD2H1XN5', 'spotify:track:37aUEdbDjLJtct2sbPRYva', 'spotify:track:5ACLrTERL7b7JQd2ZTfMjz', 'spotify:track:0YLPp1XFg20lsWOiF6kYwm', 'spotify:track:386Y2BhIiL8qvQihX80F3V', 'spotify:track:0UdssF0wBtkGmbTvCCEQFZ', 'spotify:track:3nyhumqc6usMA1R2XH9UK6', 'spotify:track:0WOcJN6rOAsgAFTbnCze4J', 'spotify:track:36eCXw0b8seSZl4KtZ2AzJ', 'spotify:track:35xWgCIhFfnTT0FDLdbaZ1', 'spotify:track:1oJvrgdil8qHvqF543Upqd', 'spotify:track:0HRMPRU3I85I9fdecngu3u', 'spotify:track:5jxw7FJ2JW3qBspTHRQu2U', 'spotify:track:1DB7sjKLuzCoIlSeRulE4Q', 'spotify:track:5nhKTXNuUK9gYaHIfGRSdC', 'spotify:track:2zB0qQzvH3U8HN9zTReHZb', 'spotify:track:0M4PcNyGDLhemL0Ro5NeFp', 'spotify:track:5DcrwGaCgfhnOgX56a6rss', 'spotify:track:1FbHpjJjWGwH0pYl9XFiSS', 'spotify:track:3imAwhFGvdTdRkavVADOIK', 'spotify:track:3nHrPC7I2S0nsBT2nzGJSA', 'spotify:track:2e6RYZToDNxzu9LbqiZ9sg', 'spotify:track:5GHeGKTmtXnLcgoT7BJ9Dz', 'spotify:track:0wEGo9LsSrSUz9HOtraWAO', 'spotify:track:4zWTya8tPMuoyDiJOLq5Vr', 'spotify:track:5tFB3DmcBnS6st75jFQlWB', 'spotify:track:5cYbYemspYYx4VxdTsvKYO', 'spotify:track:4Rg2G268G0g5macAixi0ni', 'spotify:track:6eT4PDHm2UNjOQDH86THOg', 'spotify:track:1LVZuuDDnSImcW2Po44G7Q', 'spotify:track:1LAlLBTGBUO0MDA8IbSysd', 'spotify:track:5Ko02ldO65NmVX9GBCU2uV', 'spotify:track:0ITvwZjKGEKwiw2w6t0Rco', 'spotify:track:1Ny8RoE9nPqyM3xfMjwR81', 'spotify:track:4geJYumRsMrAChwuSWa5yR', 'spotify:track:10ZZqCt5vg6Bwy5c21OG2z', 'spotify:track:7kcApwUclbIw9B6MuVmqPc', 'spotify:track:6ujJmSj0ArAHKrhLwsirGh', 'spotify:track:5b45GXKaxTKKKxAY5QOyvY', 'spotify:track:5AKUFr4GmY4VSIX54hyDi9', 'spotify:track:65NDRsNTjKcfWVhqdPJIx9', 'spotify:track:6ShMhtk1om88amkkiUrpS9']\n",
      "['spotify:track:2n2a7CG0rgXadwWtVXN21F', 'spotify:track:4JMB7StRYhP9YWrABz5mvv', 'spotify:track:63JygVQGiBmLBDQD2H1XN5', 'spotify:track:37aUEdbDjLJtct2sbPRYva', 'spotify:track:5ACLrTERL7b7JQd2ZTfMjz', 'spotify:track:0YLPp1XFg20lsWOiF6kYwm', 'spotify:track:386Y2BhIiL8qvQihX80F3V', 'spotify:track:0UdssF0wBtkGmbTvCCEQFZ', 'spotify:track:3nyhumqc6usMA1R2XH9UK6', 'spotify:track:0WOcJN6rOAsgAFTbnCze4J', 'spotify:track:36eCXw0b8seSZl4KtZ2AzJ', 'spotify:track:35xWgCIhFfnTT0FDLdbaZ1', 'spotify:track:1oJvrgdil8qHvqF543Upqd', 'spotify:track:0HRMPRU3I85I9fdecngu3u', 'spotify:track:5jxw7FJ2JW3qBspTHRQu2U', 'spotify:track:1DB7sjKLuzCoIlSeRulE4Q', 'spotify:track:5nhKTXNuUK9gYaHIfGRSdC', 'spotify:track:2zB0qQzvH3U8HN9zTReHZb', 'spotify:track:0M4PcNyGDLhemL0Ro5NeFp', 'spotify:track:5DcrwGaCgfhnOgX56a6rss', 'spotify:track:1FbHpjJjWGwH0pYl9XFiSS', 'spotify:track:3imAwhFGvdTdRkavVADOIK', 'spotify:track:3nHrPC7I2S0nsBT2nzGJSA', 'spotify:track:2e6RYZToDNxzu9LbqiZ9sg', 'spotify:track:5GHeGKTmtXnLcgoT7BJ9Dz', 'spotify:track:0wEGo9LsSrSUz9HOtraWAO', 'spotify:track:4zWTya8tPMuoyDiJOLq5Vr', 'spotify:track:5tFB3DmcBnS6st75jFQlWB', 'spotify:track:5cYbYemspYYx4VxdTsvKYO', 'spotify:track:4Rg2G268G0g5macAixi0ni', 'spotify:track:6eT4PDHm2UNjOQDH86THOg', 'spotify:track:1LVZuuDDnSImcW2Po44G7Q', 'spotify:track:1LAlLBTGBUO0MDA8IbSysd', 'spotify:track:5Ko02ldO65NmVX9GBCU2uV', 'spotify:track:0ITvwZjKGEKwiw2w6t0Rco', 'spotify:track:1Ny8RoE9nPqyM3xfMjwR81', 'spotify:track:4geJYumRsMrAChwuSWa5yR', 'spotify:track:10ZZqCt5vg6Bwy5c21OG2z', 'spotify:track:7kcApwUclbIw9B6MuVmqPc', 'spotify:track:6ujJmSj0ArAHKrhLwsirGh', 'spotify:track:5b45GXKaxTKKKxAY5QOyvY', 'spotify:track:5AKUFr4GmY4VSIX54hyDi9', 'spotify:track:65NDRsNTjKcfWVhqdPJIx9', 'spotify:track:6ShMhtk1om88amkkiUrpS9', 'spotify:track:5wI0QDFwHttWMZhIZVdHH1']\n",
      "['spotify:track:2n2a7CG0rgXadwWtVXN21F', 'spotify:track:4JMB7StRYhP9YWrABz5mvv', 'spotify:track:63JygVQGiBmLBDQD2H1XN5', 'spotify:track:37aUEdbDjLJtct2sbPRYva', 'spotify:track:5ACLrTERL7b7JQd2ZTfMjz', 'spotify:track:0YLPp1XFg20lsWOiF6kYwm', 'spotify:track:386Y2BhIiL8qvQihX80F3V', 'spotify:track:0UdssF0wBtkGmbTvCCEQFZ', 'spotify:track:3nyhumqc6usMA1R2XH9UK6', 'spotify:track:0WOcJN6rOAsgAFTbnCze4J', 'spotify:track:36eCXw0b8seSZl4KtZ2AzJ', 'spotify:track:35xWgCIhFfnTT0FDLdbaZ1', 'spotify:track:1oJvrgdil8qHvqF543Upqd', 'spotify:track:0HRMPRU3I85I9fdecngu3u', 'spotify:track:5jxw7FJ2JW3qBspTHRQu2U', 'spotify:track:1DB7sjKLuzCoIlSeRulE4Q', 'spotify:track:5nhKTXNuUK9gYaHIfGRSdC', 'spotify:track:2zB0qQzvH3U8HN9zTReHZb', 'spotify:track:0M4PcNyGDLhemL0Ro5NeFp', 'spotify:track:5DcrwGaCgfhnOgX56a6rss', 'spotify:track:1FbHpjJjWGwH0pYl9XFiSS', 'spotify:track:3imAwhFGvdTdRkavVADOIK', 'spotify:track:3nHrPC7I2S0nsBT2nzGJSA', 'spotify:track:2e6RYZToDNxzu9LbqiZ9sg', 'spotify:track:5GHeGKTmtXnLcgoT7BJ9Dz', 'spotify:track:0wEGo9LsSrSUz9HOtraWAO', 'spotify:track:4zWTya8tPMuoyDiJOLq5Vr', 'spotify:track:5tFB3DmcBnS6st75jFQlWB', 'spotify:track:5cYbYemspYYx4VxdTsvKYO', 'spotify:track:4Rg2G268G0g5macAixi0ni', 'spotify:track:6eT4PDHm2UNjOQDH86THOg', 'spotify:track:1LVZuuDDnSImcW2Po44G7Q', 'spotify:track:1LAlLBTGBUO0MDA8IbSysd', 'spotify:track:5Ko02ldO65NmVX9GBCU2uV', 'spotify:track:0ITvwZjKGEKwiw2w6t0Rco', 'spotify:track:1Ny8RoE9nPqyM3xfMjwR81', 'spotify:track:4geJYumRsMrAChwuSWa5yR', 'spotify:track:10ZZqCt5vg6Bwy5c21OG2z', 'spotify:track:7kcApwUclbIw9B6MuVmqPc', 'spotify:track:6ujJmSj0ArAHKrhLwsirGh', 'spotify:track:5b45GXKaxTKKKxAY5QOyvY', 'spotify:track:5AKUFr4GmY4VSIX54hyDi9', 'spotify:track:65NDRsNTjKcfWVhqdPJIx9', 'spotify:track:6ShMhtk1om88amkkiUrpS9', 'spotify:track:5wI0QDFwHttWMZhIZVdHH1', 'spotify:track:38LydFo7ocsTU2d7Me5j8t']\n",
      "['spotify:track:2n2a7CG0rgXadwWtVXN21F', 'spotify:track:4JMB7StRYhP9YWrABz5mvv', 'spotify:track:63JygVQGiBmLBDQD2H1XN5', 'spotify:track:37aUEdbDjLJtct2sbPRYva', 'spotify:track:5ACLrTERL7b7JQd2ZTfMjz', 'spotify:track:0YLPp1XFg20lsWOiF6kYwm', 'spotify:track:386Y2BhIiL8qvQihX80F3V', 'spotify:track:0UdssF0wBtkGmbTvCCEQFZ', 'spotify:track:3nyhumqc6usMA1R2XH9UK6', 'spotify:track:0WOcJN6rOAsgAFTbnCze4J', 'spotify:track:36eCXw0b8seSZl4KtZ2AzJ', 'spotify:track:35xWgCIhFfnTT0FDLdbaZ1', 'spotify:track:1oJvrgdil8qHvqF543Upqd', 'spotify:track:0HRMPRU3I85I9fdecngu3u', 'spotify:track:5jxw7FJ2JW3qBspTHRQu2U', 'spotify:track:1DB7sjKLuzCoIlSeRulE4Q', 'spotify:track:5nhKTXNuUK9gYaHIfGRSdC', 'spotify:track:2zB0qQzvH3U8HN9zTReHZb', 'spotify:track:0M4PcNyGDLhemL0Ro5NeFp', 'spotify:track:5DcrwGaCgfhnOgX56a6rss', 'spotify:track:1FbHpjJjWGwH0pYl9XFiSS', 'spotify:track:3imAwhFGvdTdRkavVADOIK', 'spotify:track:3nHrPC7I2S0nsBT2nzGJSA', 'spotify:track:2e6RYZToDNxzu9LbqiZ9sg', 'spotify:track:5GHeGKTmtXnLcgoT7BJ9Dz', 'spotify:track:0wEGo9LsSrSUz9HOtraWAO', 'spotify:track:4zWTya8tPMuoyDiJOLq5Vr', 'spotify:track:5tFB3DmcBnS6st75jFQlWB', 'spotify:track:5cYbYemspYYx4VxdTsvKYO', 'spotify:track:4Rg2G268G0g5macAixi0ni', 'spotify:track:6eT4PDHm2UNjOQDH86THOg', 'spotify:track:1LVZuuDDnSImcW2Po44G7Q', 'spotify:track:1LAlLBTGBUO0MDA8IbSysd', 'spotify:track:5Ko02ldO65NmVX9GBCU2uV', 'spotify:track:0ITvwZjKGEKwiw2w6t0Rco', 'spotify:track:1Ny8RoE9nPqyM3xfMjwR81', 'spotify:track:4geJYumRsMrAChwuSWa5yR', 'spotify:track:10ZZqCt5vg6Bwy5c21OG2z', 'spotify:track:7kcApwUclbIw9B6MuVmqPc', 'spotify:track:6ujJmSj0ArAHKrhLwsirGh', 'spotify:track:5b45GXKaxTKKKxAY5QOyvY', 'spotify:track:5AKUFr4GmY4VSIX54hyDi9', 'spotify:track:65NDRsNTjKcfWVhqdPJIx9', 'spotify:track:6ShMhtk1om88amkkiUrpS9', 'spotify:track:5wI0QDFwHttWMZhIZVdHH1', 'spotify:track:38LydFo7ocsTU2d7Me5j8t', 'spotify:track:6u9YLc23CTUnGVzKNj65ou']\n",
      "['spotify:track:2n2a7CG0rgXadwWtVXN21F', 'spotify:track:4JMB7StRYhP9YWrABz5mvv', 'spotify:track:63JygVQGiBmLBDQD2H1XN5', 'spotify:track:37aUEdbDjLJtct2sbPRYva', 'spotify:track:5ACLrTERL7b7JQd2ZTfMjz', 'spotify:track:0YLPp1XFg20lsWOiF6kYwm', 'spotify:track:386Y2BhIiL8qvQihX80F3V', 'spotify:track:0UdssF0wBtkGmbTvCCEQFZ', 'spotify:track:3nyhumqc6usMA1R2XH9UK6', 'spotify:track:0WOcJN6rOAsgAFTbnCze4J', 'spotify:track:36eCXw0b8seSZl4KtZ2AzJ', 'spotify:track:35xWgCIhFfnTT0FDLdbaZ1', 'spotify:track:1oJvrgdil8qHvqF543Upqd', 'spotify:track:0HRMPRU3I85I9fdecngu3u', 'spotify:track:5jxw7FJ2JW3qBspTHRQu2U', 'spotify:track:1DB7sjKLuzCoIlSeRulE4Q', 'spotify:track:5nhKTXNuUK9gYaHIfGRSdC', 'spotify:track:2zB0qQzvH3U8HN9zTReHZb', 'spotify:track:0M4PcNyGDLhemL0Ro5NeFp', 'spotify:track:5DcrwGaCgfhnOgX56a6rss', 'spotify:track:1FbHpjJjWGwH0pYl9XFiSS', 'spotify:track:3imAwhFGvdTdRkavVADOIK', 'spotify:track:3nHrPC7I2S0nsBT2nzGJSA', 'spotify:track:2e6RYZToDNxzu9LbqiZ9sg', 'spotify:track:5GHeGKTmtXnLcgoT7BJ9Dz', 'spotify:track:0wEGo9LsSrSUz9HOtraWAO', 'spotify:track:4zWTya8tPMuoyDiJOLq5Vr', 'spotify:track:5tFB3DmcBnS6st75jFQlWB', 'spotify:track:5cYbYemspYYx4VxdTsvKYO', 'spotify:track:4Rg2G268G0g5macAixi0ni', 'spotify:track:6eT4PDHm2UNjOQDH86THOg', 'spotify:track:1LVZuuDDnSImcW2Po44G7Q', 'spotify:track:1LAlLBTGBUO0MDA8IbSysd', 'spotify:track:5Ko02ldO65NmVX9GBCU2uV', 'spotify:track:0ITvwZjKGEKwiw2w6t0Rco', 'spotify:track:1Ny8RoE9nPqyM3xfMjwR81', 'spotify:track:4geJYumRsMrAChwuSWa5yR', 'spotify:track:10ZZqCt5vg6Bwy5c21OG2z', 'spotify:track:7kcApwUclbIw9B6MuVmqPc', 'spotify:track:6ujJmSj0ArAHKrhLwsirGh', 'spotify:track:5b45GXKaxTKKKxAY5QOyvY', 'spotify:track:5AKUFr4GmY4VSIX54hyDi9', 'spotify:track:65NDRsNTjKcfWVhqdPJIx9', 'spotify:track:6ShMhtk1om88amkkiUrpS9', 'spotify:track:5wI0QDFwHttWMZhIZVdHH1', 'spotify:track:38LydFo7ocsTU2d7Me5j8t', 'spotify:track:6u9YLc23CTUnGVzKNj65ou', 'spotify:track:5ffdNfKHJqtFQofaL8fLCa']\n",
      "['spotify:track:2n2a7CG0rgXadwWtVXN21F', 'spotify:track:4JMB7StRYhP9YWrABz5mvv', 'spotify:track:63JygVQGiBmLBDQD2H1XN5', 'spotify:track:37aUEdbDjLJtct2sbPRYva', 'spotify:track:5ACLrTERL7b7JQd2ZTfMjz', 'spotify:track:0YLPp1XFg20lsWOiF6kYwm', 'spotify:track:386Y2BhIiL8qvQihX80F3V', 'spotify:track:0UdssF0wBtkGmbTvCCEQFZ', 'spotify:track:3nyhumqc6usMA1R2XH9UK6', 'spotify:track:0WOcJN6rOAsgAFTbnCze4J', 'spotify:track:36eCXw0b8seSZl4KtZ2AzJ', 'spotify:track:35xWgCIhFfnTT0FDLdbaZ1', 'spotify:track:1oJvrgdil8qHvqF543Upqd', 'spotify:track:0HRMPRU3I85I9fdecngu3u', 'spotify:track:5jxw7FJ2JW3qBspTHRQu2U', 'spotify:track:1DB7sjKLuzCoIlSeRulE4Q', 'spotify:track:5nhKTXNuUK9gYaHIfGRSdC', 'spotify:track:2zB0qQzvH3U8HN9zTReHZb', 'spotify:track:0M4PcNyGDLhemL0Ro5NeFp', 'spotify:track:5DcrwGaCgfhnOgX56a6rss', 'spotify:track:1FbHpjJjWGwH0pYl9XFiSS', 'spotify:track:3imAwhFGvdTdRkavVADOIK', 'spotify:track:3nHrPC7I2S0nsBT2nzGJSA', 'spotify:track:2e6RYZToDNxzu9LbqiZ9sg', 'spotify:track:5GHeGKTmtXnLcgoT7BJ9Dz', 'spotify:track:0wEGo9LsSrSUz9HOtraWAO', 'spotify:track:4zWTya8tPMuoyDiJOLq5Vr', 'spotify:track:5tFB3DmcBnS6st75jFQlWB', 'spotify:track:5cYbYemspYYx4VxdTsvKYO', 'spotify:track:4Rg2G268G0g5macAixi0ni', 'spotify:track:6eT4PDHm2UNjOQDH86THOg', 'spotify:track:1LVZuuDDnSImcW2Po44G7Q', 'spotify:track:1LAlLBTGBUO0MDA8IbSysd', 'spotify:track:5Ko02ldO65NmVX9GBCU2uV', 'spotify:track:0ITvwZjKGEKwiw2w6t0Rco', 'spotify:track:1Ny8RoE9nPqyM3xfMjwR81', 'spotify:track:4geJYumRsMrAChwuSWa5yR', 'spotify:track:10ZZqCt5vg6Bwy5c21OG2z', 'spotify:track:7kcApwUclbIw9B6MuVmqPc', 'spotify:track:6ujJmSj0ArAHKrhLwsirGh', 'spotify:track:5b45GXKaxTKKKxAY5QOyvY', 'spotify:track:5AKUFr4GmY4VSIX54hyDi9', 'spotify:track:65NDRsNTjKcfWVhqdPJIx9', 'spotify:track:6ShMhtk1om88amkkiUrpS9', 'spotify:track:5wI0QDFwHttWMZhIZVdHH1', 'spotify:track:38LydFo7ocsTU2d7Me5j8t', 'spotify:track:6u9YLc23CTUnGVzKNj65ou', 'spotify:track:5ffdNfKHJqtFQofaL8fLCa', 'spotify:track:7i2ZntdYyNmcGnptw8Dhbw']\n",
      "['spotify:track:2n2a7CG0rgXadwWtVXN21F', 'spotify:track:4JMB7StRYhP9YWrABz5mvv', 'spotify:track:63JygVQGiBmLBDQD2H1XN5', 'spotify:track:37aUEdbDjLJtct2sbPRYva', 'spotify:track:5ACLrTERL7b7JQd2ZTfMjz', 'spotify:track:0YLPp1XFg20lsWOiF6kYwm', 'spotify:track:386Y2BhIiL8qvQihX80F3V', 'spotify:track:0UdssF0wBtkGmbTvCCEQFZ', 'spotify:track:3nyhumqc6usMA1R2XH9UK6', 'spotify:track:0WOcJN6rOAsgAFTbnCze4J', 'spotify:track:36eCXw0b8seSZl4KtZ2AzJ', 'spotify:track:35xWgCIhFfnTT0FDLdbaZ1', 'spotify:track:1oJvrgdil8qHvqF543Upqd', 'spotify:track:0HRMPRU3I85I9fdecngu3u', 'spotify:track:5jxw7FJ2JW3qBspTHRQu2U', 'spotify:track:1DB7sjKLuzCoIlSeRulE4Q', 'spotify:track:5nhKTXNuUK9gYaHIfGRSdC', 'spotify:track:2zB0qQzvH3U8HN9zTReHZb', 'spotify:track:0M4PcNyGDLhemL0Ro5NeFp', 'spotify:track:5DcrwGaCgfhnOgX56a6rss', 'spotify:track:1FbHpjJjWGwH0pYl9XFiSS', 'spotify:track:3imAwhFGvdTdRkavVADOIK', 'spotify:track:3nHrPC7I2S0nsBT2nzGJSA', 'spotify:track:2e6RYZToDNxzu9LbqiZ9sg', 'spotify:track:5GHeGKTmtXnLcgoT7BJ9Dz', 'spotify:track:0wEGo9LsSrSUz9HOtraWAO', 'spotify:track:4zWTya8tPMuoyDiJOLq5Vr', 'spotify:track:5tFB3DmcBnS6st75jFQlWB', 'spotify:track:5cYbYemspYYx4VxdTsvKYO', 'spotify:track:4Rg2G268G0g5macAixi0ni', 'spotify:track:6eT4PDHm2UNjOQDH86THOg', 'spotify:track:1LVZuuDDnSImcW2Po44G7Q', 'spotify:track:1LAlLBTGBUO0MDA8IbSysd', 'spotify:track:5Ko02ldO65NmVX9GBCU2uV', 'spotify:track:0ITvwZjKGEKwiw2w6t0Rco', 'spotify:track:1Ny8RoE9nPqyM3xfMjwR81', 'spotify:track:4geJYumRsMrAChwuSWa5yR', 'spotify:track:10ZZqCt5vg6Bwy5c21OG2z', 'spotify:track:7kcApwUclbIw9B6MuVmqPc', 'spotify:track:6ujJmSj0ArAHKrhLwsirGh', 'spotify:track:5b45GXKaxTKKKxAY5QOyvY', 'spotify:track:5AKUFr4GmY4VSIX54hyDi9', 'spotify:track:65NDRsNTjKcfWVhqdPJIx9', 'spotify:track:6ShMhtk1om88amkkiUrpS9', 'spotify:track:5wI0QDFwHttWMZhIZVdHH1', 'spotify:track:38LydFo7ocsTU2d7Me5j8t', 'spotify:track:6u9YLc23CTUnGVzKNj65ou', 'spotify:track:5ffdNfKHJqtFQofaL8fLCa', 'spotify:track:7i2ZntdYyNmcGnptw8Dhbw', 'spotify:track:5fxtzPvQC8L81kEet9owJu']\n"
     ]
    }
   ],
   "source": [
    "#uniform resource identifier\n",
    "track_selection_list = []\n",
    "\n",
    "for song in tracks:\n",
    "    track_selection_list.append(song['uri'])\n",
    "    print (track_selection_list)"
   ]
  },
  {
   "cell_type": "code",
   "execution_count": 82,
   "id": "23ac594d-338a-45fe-9a49-ece37602ce2b",
   "metadata": {},
   "outputs": [],
   "source": [
    "my_playlist = sp.user_playlist_create(user=username, name=forecast, public=True,\n",
    "                                      description=\"Songs for the weather\")"
   ]
  },
  {
   "cell_type": "code",
   "execution_count": 83,
   "id": "10c83cae-a7a5-4757-a7fc-fa254281da96",
   "metadata": {},
   "outputs": [
    {
     "name": "stdout",
     "output_type": "stream",
     "text": [
      "{'snapshot_id': 'AAAAAou2xahfRs0nPC8YXY8ylW4+MO/I'}\n"
     ]
    }
   ],
   "source": [
    "results = sp.user_playlist_add_tracks(username, my_playlist['id'], track_selection_list)\n",
    "print(results)"
   ]
  },
  {
   "cell_type": "code",
   "execution_count": 84,
   "id": "bd2b02f7-c986-4f04-a7aa-8801052fc3e2",
   "metadata": {},
   "outputs": [
    {
     "name": "stdout",
     "output_type": "stream",
     "text": [
      "{'collaborative': False, 'description': 'Songs for the weather', 'external_urls': {'spotify': 'https://open.spotify.com/playlist/5fkaR0hsnuFvUwaG0Yg8Ys'}, 'followers': {'href': None, 'total': 0}, 'href': 'https://api.spotify.com/v1/playlists/5fkaR0hsnuFvUwaG0Yg8Ys', 'id': '5fkaR0hsnuFvUwaG0Yg8Ys', 'images': [], 'primary_color': None, 'name': 'Overcast', 'type': 'playlist', 'uri': 'spotify:playlist:5fkaR0hsnuFvUwaG0Yg8Ys', 'owner': {'href': 'https://api.spotify.com/v1/users/312awb6ojbgvu7h7trxqmaxyiata', 'id': '312awb6ojbgvu7h7trxqmaxyiata', 'type': 'user', 'uri': 'spotify:user:312awb6ojbgvu7h7trxqmaxyiata', 'display_name': None, 'external_urls': {'spotify': 'https://open.spotify.com/user/312awb6ojbgvu7h7trxqmaxyiata'}}, 'public': True, 'snapshot_id': 'AAAADLe4yZecnI5m/Sd2atydj18SKopP', 'tracks': {'limit': 100, 'next': None, 'offset': 0, 'previous': None, 'href': 'https://api.spotify.com/v1/playlists/5fkaR0hsnuFvUwaG0Yg8Ys/tracks', 'total': 0, 'items': []}}\n"
     ]
    }
   ],
   "source": [
    "print(my_playlist)"
   ]
  },
  {
   "cell_type": "code",
   "execution_count": 87,
   "id": "5ccb2e00-6c96-435f-bc90-e0258fcb890e",
   "metadata": {},
   "outputs": [],
   "source": [
    "sp.start_playback(device_id=deviceID, context_uri=my_playlist['uri'])"
   ]
  },
  {
   "cell_type": "code",
   "execution_count": null,
   "id": "72bac328-b8a7-4c1f-83f1-32a5be602459",
   "metadata": {},
   "outputs": [],
   "source": [
    "# webbrowser.open(my_playlist['external_urls']['spotify'])"
   ]
  }
 ],
 "metadata": {
  "kernelspec": {
   "display_name": "Python 3 (ipykernel)",
   "language": "python",
   "name": "python3"
  },
  "language_info": {
   "codemirror_mode": {
    "name": "ipython",
    "version": 3
   },
   "file_extension": ".py",
   "mimetype": "text/x-python",
   "name": "python",
   "nbconvert_exporter": "python",
   "pygments_lexer": "ipython3",
   "version": "3.12.7"
  }
 },
 "nbformat": 4,
 "nbformat_minor": 5
}
